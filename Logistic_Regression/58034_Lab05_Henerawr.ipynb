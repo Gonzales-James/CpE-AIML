{
  "nbformat": 4,
  "nbformat_minor": 0,
  "metadata": {
    "colab": {
      "name": "58034_Lab05_Henerawr.ipynb",
      "provenance": [],
      "collapsed_sections": [],
      "include_colab_link": true
    },
    "kernelspec": {
      "name": "python3",
      "display_name": "Python 3"
    },
    "language_info": {
      "name": "python"
    }
  },
  "cells": [
    {
      "cell_type": "markdown",
      "metadata": {
        "id": "view-in-github",
        "colab_type": "text"
      },
      "source": [
        "<a href=\"https://colab.research.google.com/github/Gonzales-James/CpE-AIML/blob/main/Logistic_Regression/58034_Lab05_Henerawr.ipynb\" target=\"_parent\"><img src=\"https://colab.research.google.com/assets/colab-badge.svg\" alt=\"Open In Colab\"/></a>"
      ]
    },
    {
      "cell_type": "markdown",
      "metadata": {
        "id": "QL_mNGzi2D7L"
      },
      "source": [
        "## **About the Dataset**\n",
        "\n",
        "***Purpose of the Dataset*** \n",
        "\n",
        "The purpose of this dataset is to locate the lumps of the patient caused by the breast cancer. It also aims to observe which features will be most helpful in predicting malignant or benign cancer and to see general trends that may aid in model selection and hyper parameter selection. This dataset is used to classify whether breast cancer is benign or malignant.\n",
        "\n",
        "\\\\\n",
        "\n",
        "***Need statement*** \n",
        "\n",
        "One of the leading cancer diseases that is developed in many countries is breast cancer. The death toll dues to breast cancer have increased drastically in last few decades. The main issue that is relevant to its cure is early recognition of the disease. Early recognition of this disease can increase the survival rate of the women who are being diagnosed with breast cancer. One solution is integrating Data Analytics in to the medical field in order to resolve this issue.   \n",
        "\n",
        "\\\\\n",
        "\n",
        "***Significance*** \n",
        "\n",
        "The significance of this dataset is to recognize the disease early. Early diagnosis or recognition of breast cancer can increase the chance of survival and the patient can have their timely clinical treatment. With early recognition and classification of the disease can avoid unnecessary treatments of the patient. Classification and data mining methods are a productive process to classify and predict data especially in the medical field."
      ]
    },
    {
      "cell_type": "markdown",
      "metadata": {
        "id": "dDuTaIyIFqaA"
      },
      "source": [
        "## **Dataset from sklearn**"
      ]
    },
    {
      "cell_type": "code",
      "metadata": {
        "id": "-yIOfVUlM0tT"
      },
      "source": [
        "import numpy as np\n",
        "import matplotlib.pyplot as plt\n",
        "import pandas as pd\n",
        "import seaborn as sns\n",
        "from sklearn import metrics\n",
        "from sklearn.linear_model import LogisticRegression"
      ],
      "execution_count": 1,
      "outputs": []
    },
    {
      "cell_type": "code",
      "metadata": {
        "id": "RoqsozdNFqPu"
      },
      "source": [
        "from sklearn.datasets import load_breast_cancer\n",
        "data = load_breast_cancer()"
      ],
      "execution_count": 2,
      "outputs": []
    },
    {
      "cell_type": "code",
      "metadata": {
        "id": "iaIzhpSnJDbM"
      },
      "source": [
        "X, y = load_breast_cancer(return_X_y=True)"
      ],
      "execution_count": 3,
      "outputs": []
    },
    {
      "cell_type": "code",
      "metadata": {
        "id": "syzTQ2KwJQ4p"
      },
      "source": [
        "X = X[:569:,1]\n",
        "X = X.reshape((-1,1))\n",
        "y = y.reshape((-1,1))"
      ],
      "execution_count": 4,
      "outputs": []
    },
    {
      "cell_type": "code",
      "metadata": {
        "id": "XathmdqnJA-d"
      },
      "source": [
        "### Label the datasets programmatically\n",
        "X1 = np.append(X,np.ones((X.shape[0],1)), axis = 1)\n",
        "X2 = np.append(y,np.zeros((y.shape[0],1)), axis = 1)\n",
        "\n",
        "### Combine to a single dataset\n",
        "X_train = np.vstack((X1,X2))"
      ],
      "execution_count": 5,
      "outputs": []
    },
    {
      "cell_type": "code",
      "metadata": {
        "id": "rdZHuLT3JB9D"
      },
      "source": [
        "## Set the data for the dataset\n",
        "X = X_train[:,0:49]\n",
        "X = np.hstack((X,np.ones((X_train.shape[0], 1))))\n",
        "y = X_train[:,1].reshape(-1,1)"
      ],
      "execution_count": 6,
      "outputs": []
    },
    {
      "cell_type": "code",
      "metadata": {
        "colab": {
          "base_uri": "https://localhost:8080/",
          "height": 264
        },
        "id": "7Kr4MdE1JBuI",
        "outputId": "e50d0cc0-ded3-431a-ab44-af91bcdb51e0"
      },
      "source": [
        "#plt.figure(figsize=(15, 10))\n",
        "plt.scatter(X[:,0], X[:,1], c=y, cmap='PiYG')\n",
        "# plt.ylabel(\"Gloabl Sales\")\n",
        "# plt.xlabel(\"North America Sales\")\n",
        "plt.grid()\n",
        "plt.show()"
      ],
      "execution_count": 7,
      "outputs": [
        {
          "output_type": "display_data",
          "data": {
            "image/png": "[encoded data removed]",
            "text/plain": [
              "<Figure size 432x288 with 1 Axes>"
            ]
          },
          "metadata": {
            "needs_background": "light"
          }
        }
      ]
    },
    {
      "cell_type": "code",
      "metadata": {
        "colab": {
          "base_uri": "https://localhost:8080/"
        },
        "id": "6-AttenlJdew",
        "outputId": "6c7e1c5f-818b-45ac-8006-93862e46d905"
      },
      "source": [
        "### Creating a Binary Linear Classifier using Least Squares\n",
        "\n",
        "## Compute for the weights\n",
        "pseudo_inv = np.linalg.inv(X.T @ X)\n",
        "weights = pseudo_inv @ (X.T @ y)\n",
        "weights"
      ],
      "execution_count": 8,
      "outputs": [
        {
          "output_type": "execute_result",
          "data": {
            "text/plain": [
              "array([[ 1.75171835e-15],\n",
              "       [ 1.00000000e+00],\n",
              "       [-1.31188463e-15]])"
            ]
          },
          "metadata": {},
          "execution_count": 8
        }
      ]
    },
    {
      "cell_type": "code",
      "metadata": {
        "id": "ZdD4nlYaJdYG"
      },
      "source": [
        "# ## Visualize\n",
        "# def class_plot(X, y, weights):\n",
        "#   plt.figure(figsize=(8,8))\n",
        "\n",
        "#   xmin, xmax = X[:,1].min()-1, X[:,1].max()+1\n",
        "#   xaxis = np.linspace(xmin,xmax)\n",
        "#   yaxis = -weights[0]/weights[-1] - (weights[1]/weights[-1])*xaxis\n",
        "\n",
        "\n",
        "#   plt.scatter(X[:,0], X[:,1], c=y, cmap='PiYG')\n",
        "#   plt.plot(xaxis, yaxis, label='decision boundary') \n",
        "\n",
        "#   plt.legend()\n",
        "#   plt.grid()\n",
        "#   plt.xlabel('Feature')\n",
        "#   plt.ylabel('Target')\n",
        "#   plt.show()  \n",
        "\n",
        "# class_plot(X,y,weights)"
      ],
      "execution_count": 9,
      "outputs": []
    },
    {
      "cell_type": "markdown",
      "metadata": {
        "id": "PevOAp9FMl7F"
      },
      "source": [
        "## **Logistic Regression**"
      ]
    },
    {
      "cell_type": "code",
      "metadata": {
        "id": "PsmIUpMKHZP8"
      },
      "source": [
        "X, y = load_breast_cancer(return_X_y=True)\n",
        "X = X[:569:,1]\n",
        "X = X.reshape((-1,1))\n",
        "y = y.reshape((-1,1))"
      ],
      "execution_count": 10,
      "outputs": []
    },
    {
      "cell_type": "code",
      "metadata": {
        "id": "tkMtcl0RGwwP"
      },
      "source": [
        "## Weights \n",
        "\n",
        "pseudo_inv = np.linalg.inv(X.T @ X)\n",
        "weights = pseudo_inv @ (X.T @ y)"
      ],
      "execution_count": 11,
      "outputs": []
    },
    {
      "cell_type": "code",
      "metadata": {
        "colab": {
          "base_uri": "https://localhost:8080/"
        },
        "id": "pgyOQsHrFyIZ",
        "outputId": "4f2f119a-c743-48ab-e675-92e847314f35"
      },
      "source": [
        "log_model = LogisticRegression(random_state=0)\n",
        "log_model.fit(X, y)"
      ],
      "execution_count": 12,
      "outputs": [
        {
          "output_type": "stream",
          "name": "stderr",
          "text": [
            "/usr/local/lib/python3.7/dist-packages/sklearn/utils/validation.py:985: DataConversionWarning: A column-vector y was passed when a 1d array was expected. Please change the shape of y to (n_samples, ), for example using ravel().\n",
            "  y = column_or_1d(y, warn=True)\n"
          ]
        },
        {
          "output_type": "execute_result",
          "data": {
            "text/plain": [
              "LogisticRegression(random_state=0)"
            ]
          },
          "metadata": {},
          "execution_count": 12
        }
      ]
    },
    {
      "cell_type": "code",
      "metadata": {
        "colab": {
          "base_uri": "https://localhost:8080/",
          "height": 278
        },
        "id": "I3M5d80nGdGn",
        "outputId": "6119e577-7334-49c1-b89b-91a0361cd7a5"
      },
      "source": [
        "preds = log_model.predict(X)\n",
        "conf_mat = metrics.confusion_matrix(y, preds)\n",
        "sns.heatmap(conf_mat, annot=True)\n",
        "plt.xlabel(\"Predicted\")\n",
        "plt.ylabel(\"Ground Truth\")\n",
        "plt.show()"
      ],
      "execution_count": 13,
      "outputs": [
        {
          "output_type": "display_data",
          "data": {
            "image/png": "[encoded data removed]",
            "text/plain": [
              "<Figure size 432x288 with 2 Axes>"
            ]
          },
          "metadata": {
            "needs_background": "light"
          }
        }
      ]
    },
    {
      "cell_type": "code",
      "metadata": {
        "colab": {
          "base_uri": "https://localhost:8080/"
        },
        "id": "nrjDutSrGffk",
        "outputId": "c31ccee2-7fe2-4a33-8810-098e0bac2a95"
      },
      "source": [
        "## Create an inference instance to make predictions\n",
        "infer = lambda X : np.round(X@weights)\n",
        "X_test = np.array([2]) \n",
        "infer(X_test)"
      ],
      "execution_count": 14,
      "outputs": [
        {
          "output_type": "execute_result",
          "data": {
            "text/plain": [
              "array([0.])"
            ]
          },
          "metadata": {},
          "execution_count": 14
        }
      ]
    },
    {
      "cell_type": "code",
      "metadata": {
        "colab": {
          "base_uri": "https://localhost:8080/"
        },
        "id": "3b4OYZ9AGi5w",
        "outputId": "4104c507-bbcd-44a4-ac4e-031fd0919bb7"
      },
      "source": [
        "### L2 Error\n",
        "preds = infer(X)\n",
        "residuals = y - preds\n",
        "l2_error = np.sqrt(np.sum(np.square(residuals)))\n",
        "l2_error"
      ],
      "execution_count": 15,
      "outputs": [
        {
          "output_type": "execute_result",
          "data": {
            "text/plain": [
              "19.131126469708992"
            ]
          },
          "metadata": {},
          "execution_count": 15
        }
      ]
    },
    {
      "cell_type": "code",
      "metadata": {
        "colab": {
          "base_uri": "https://localhost:8080/"
        },
        "id": "Hd3r4Vl2GlOD",
        "outputId": "ecc5d286-b175-40f6-a9e5-761c62130053"
      },
      "source": [
        "### Accuracy\n",
        "accuracy = 1-np.mean(np.abs(residuals))\n",
        "accuracy"
      ],
      "execution_count": 16,
      "outputs": [
        {
          "output_type": "execute_result",
          "data": {
            "text/plain": [
              "0.35676625659050965"
            ]
          },
          "metadata": {},
          "execution_count": 16
        }
      ]
    },
    {
      "cell_type": "code",
      "metadata": {
        "colab": {
          "base_uri": "https://localhost:8080/",
          "height": 78
        },
        "id": "yaxfOnGAHBL6",
        "outputId": "d99bf982-5b30-4a81-91f9-455326a7ca01"
      },
      "source": [
        "class_metrics = {\n",
        "    'accuracy': [metrics.accuracy_score(y, preds)],\n",
        "    'precision': [metrics.precision_score(y, preds, average=None)],\n",
        "    'recall': [metrics.recall_score(y, preds, average=None)],\n",
        "    'f1-score': [metrics.f1_score(y, preds, average=None)]\n",
        "}\n",
        "pd.DataFrame(class_metrics)"
      ],
      "execution_count": 17,
      "outputs": [
        {
          "output_type": "execute_result",
          "data": {
            "text/html": [
              "<div>\n",
              "<style scoped>\n",
              "    .dataframe tbody tr th:only-of-type {\n",
              "        vertical-align: middle;\n",
              "    }\n",
              "\n",
              "    .dataframe tbody tr th {\n",
              "        vertical-align: top;\n",
              "    }\n",
              "\n",
              "    .dataframe thead th {\n",
              "        text-align: right;\n",
              "    }\n",
              "</style>\n",
              "<table border=\"1\" class=\"dataframe\">\n",
              "  <thead>\n",
              "    <tr style=\"text-align: right;\">\n",
              "      <th></th>\n",
              "      <th>accuracy</th>\n",
              "      <th>precision</th>\n",
              "      <th>recall</th>\n",
              "      <th>f1-score</th>\n",
              "    </tr>\n",
              "  </thead>\n",
              "  <tbody>\n",
              "    <tr>\n",
              "      <th>0</th>\n",
              "      <td>0.356766</td>\n",
              "      <td>[0.1188118811881188, 0.4877384196185286]</td>\n",
              "      <td>[0.11320754716981132, 0.5014005602240896]</td>\n",
              "      <td>[0.11594202898550725, 0.4944751381215469]</td>\n",
              "    </tr>\n",
              "  </tbody>\n",
              "</table>\n",
              "</div>"
            ],
            "text/plain": [
              "   accuracy  ...                                   f1-score\n",
              "0  0.356766  ...  [0.11594202898550725, 0.4944751381215469]\n",
              "\n",
              "[1 rows x 4 columns]"
            ]
          },
          "metadata": {},
          "execution_count": 17
        }
      ]
    },
    {
      "cell_type": "markdown",
      "metadata": {
        "id": "loO37q9NPR2X"
      },
      "source": [
        "#**Functions**"
      ]
    },
    {
      "cell_type": "code",
      "metadata": {
        "id": "J8ufPw5DRcsz"
      },
      "source": [
        "from sklearn.datasets import load_breast_cancer\n",
        "data = load_breast_cancer()"
      ],
      "execution_count": 18,
      "outputs": []
    },
    {
      "cell_type": "code",
      "metadata": {
        "id": "w0Jiied_Rchj"
      },
      "source": [
        "X, y = load_breast_cancer(return_X_y=True)"
      ],
      "execution_count": 19,
      "outputs": []
    },
    {
      "cell_type": "code",
      "metadata": {
        "id": "c5Lq7uVKRiqz"
      },
      "source": [
        "X = X[:569:,1]\n",
        "X = X.reshape((-1,1))\n",
        "y = y.reshape((-1,1))"
      ],
      "execution_count": 20,
      "outputs": []
    },
    {
      "cell_type": "code",
      "metadata": {
        "id": "EKDwa6yaPP8I"
      },
      "source": [
        "class Classification:\n",
        "  def __init__ (self, X, y):\n",
        "    self.X = X\n",
        "    self.y = y\n",
        "\n",
        "  def train(self):\n",
        "    pseudo_inv = np.linalg.inv(self.X.T @ self.X)\n",
        "    self.weights = pseudo_inv @ (self.X.T @ self.y)\n",
        "    return self.weights\n",
        "\n",
        "  def predict(self):\n",
        "    self.log_model = LogisticRegression(random_state=0)\n",
        "    self.log_model.fit(self.X, self.y)\n",
        "    self.preds = log_model.predict(X)\n",
        "    return self.preds\n",
        "\n",
        "  def evaluate(self): \n",
        "    class_metrics = {\n",
        "        'accuracy': [metrics.accuracy_score(y, preds)],\n",
        "        'precision': [metrics.precision_score(y, preds, average=None)],\n",
        "        'recall': [metrics.recall_score(y, preds, average=None)],\n",
        "        'f1-score': [metrics.f1_score(y, preds, average=None)]\n",
        "    }\n",
        "    return pd.DataFrame(class_metrics)\n",
        "  \n",
        "  def visualize(self):\n",
        "    plt.scatter(X,y, color='red')\n",
        "    plt.scatter(X,preds, color='green')\n",
        "    plt.grid()\n",
        "    return plt.show()"
      ],
      "execution_count": 21,
      "outputs": []
    },
    {
      "cell_type": "code",
      "metadata": {
        "id": "TX920x8gRO1D"
      },
      "source": [
        "CL = Classification(X, y)"
      ],
      "execution_count": 22,
      "outputs": []
    },
    {
      "cell_type": "code",
      "metadata": {
        "colab": {
          "base_uri": "https://localhost:8080/"
        },
        "id": "c_EBTx17RCLe",
        "outputId": "c7e1feeb-5e7c-4474-adb5-f892b657d7d4"
      },
      "source": [
        "CL.train()"
      ],
      "execution_count": 23,
      "outputs": [
        {
          "output_type": "execute_result",
          "data": {
            "text/plain": [
              "array([[0.02877946]])"
            ]
          },
          "metadata": {},
          "execution_count": 23
        }
      ]
    },
    {
      "cell_type": "code",
      "metadata": {
        "colab": {
          "base_uri": "https://localhost:8080/"
        },
        "id": "7zBFRxLERN35",
        "outputId": "a4c48db0-0db2-4e7d-b36f-54b91e8d897e"
      },
      "source": [
        "CL.predict()"
      ],
      "execution_count": 24,
      "outputs": [
        {
          "output_type": "stream",
          "name": "stderr",
          "text": [
            "/usr/local/lib/python3.7/dist-packages/sklearn/utils/validation.py:985: DataConversionWarning: A column-vector y was passed when a 1d array was expected. Please change the shape of y to (n_samples, ), for example using ravel().\n",
            "  y = column_or_1d(y, warn=True)\n"
          ]
        },
        {
          "output_type": "execute_result",
          "data": {
            "text/plain": [
              "array([1, 1, 1, 1, 1, 1, 1, 1, 1, 0, 0, 1, 0, 0, 0, 0, 1, 1, 0, 1, 1, 1,\n",
              "       1, 0, 1, 1, 1, 1, 0, 1, 0, 1, 0, 0, 1, 1, 1, 1, 0, 1, 1, 1, 0, 1,\n",
              "       1, 1, 1, 1, 1, 0, 1, 1, 1, 1, 0, 1, 1, 1, 1, 1, 1, 1, 0, 1, 0, 0,\n",
              "       1, 1, 1, 1, 1, 1, 0, 1, 1, 1, 1, 1, 0, 1, 1, 1, 0, 0, 1, 1, 1, 0,\n",
              "       1, 1, 0, 0, 1, 1, 1, 0, 1, 1, 1, 1, 0, 1, 1, 1, 1, 1, 1, 1, 1, 1,\n",
              "       1, 1, 1, 1, 1, 1, 1, 1, 0, 1, 1, 1, 1, 1, 1, 1, 0, 1, 1, 0, 1, 1,\n",
              "       1, 1, 0, 0, 1, 1, 1, 1, 1, 1, 1, 1, 1, 1, 1, 1, 1, 1, 1, 1, 1, 1,\n",
              "       1, 1, 1, 1, 1, 1, 1, 1, 1, 0, 0, 1, 1, 1, 0, 1, 1, 1, 1, 1, 1, 1,\n",
              "       1, 1, 0, 1, 0, 0, 1, 1, 0, 1, 1, 1, 1, 1, 0, 1, 1, 0, 0, 1, 0, 1,\n",
              "       0, 1, 1, 1, 0, 0, 1, 1, 1, 1, 0, 1, 0, 1, 1, 0, 0, 1, 1, 1, 1, 0,\n",
              "       1, 1, 1, 1, 1, 1, 1, 1, 0, 0, 1, 0, 0, 0, 1, 1, 0, 1, 0, 0, 1, 1,\n",
              "       1, 0, 0, 1, 1, 1, 0, 1, 0, 1, 1, 1, 1, 1, 0, 1, 0, 0, 0, 0, 0, 1,\n",
              "       0, 0, 1, 1, 1, 1, 1, 1, 1, 1, 0, 1, 1, 1, 1, 1, 0, 1, 1, 1, 1, 1,\n",
              "       1, 1, 1, 1, 1, 1, 1, 1, 1, 1, 1, 1, 1, 0, 1, 1, 0, 1, 1, 0, 1, 1,\n",
              "       1, 1, 1, 1, 1, 1, 1, 1, 1, 1, 1, 1, 1, 1, 1, 1, 1, 1, 1, 1, 1, 0,\n",
              "       1, 1, 1, 1, 1, 1, 1, 1, 1, 0, 1, 1, 1, 1, 1, 1, 1, 1, 1, 1, 1, 1,\n",
              "       1, 0, 1, 1, 1, 1, 1, 1, 1, 1, 1, 1, 1, 1, 0, 1, 1, 0, 0, 1, 1, 1,\n",
              "       1, 1, 1, 0, 1, 1, 1, 1, 0, 1, 1, 0, 1, 1, 1, 0, 1, 1, 1, 0, 1, 1,\n",
              "       1, 1, 1, 1, 1, 1, 1, 1, 1, 1, 1, 1, 1, 1, 1, 1, 1, 0, 0, 1, 1, 1,\n",
              "       1, 1, 1, 1, 1, 1, 1, 1, 1, 0, 1, 1, 0, 1, 1, 0, 1, 1, 1, 1, 1, 1,\n",
              "       1, 0, 1, 1, 1, 0, 0, 1, 1, 1, 1, 0, 0, 1, 1, 0, 0, 0, 0, 0, 0, 0,\n",
              "       0, 1, 1, 1, 1, 1, 0, 1, 1, 0, 1, 0, 1, 1, 1, 1, 1, 1, 1, 1, 1, 1,\n",
              "       1, 1, 1, 1, 1, 1, 0, 1, 1, 1, 1, 1, 1, 1, 1, 1, 1, 0, 1, 1, 1, 1,\n",
              "       1, 1, 1, 0, 1, 1, 1, 1, 1, 1, 1, 1, 1, 1, 1, 1, 1, 1, 1, 1, 1, 1,\n",
              "       1, 1, 1, 1, 1, 1, 1, 1, 0, 0, 0, 0, 1, 0, 0, 0, 1, 0, 1, 1, 1, 0,\n",
              "       1, 0, 0, 0, 0, 0, 1, 0, 0, 0, 0, 0, 0, 0, 0, 0, 0, 0, 0])"
            ]
          },
          "metadata": {},
          "execution_count": 24
        }
      ]
    },
    {
      "cell_type": "code",
      "metadata": {
        "colab": {
          "base_uri": "https://localhost:8080/",
          "height": 264
        },
        "id": "7pwtFaMnS4su",
        "outputId": "6e0845cc-b2d1-48c0-bad5-19f6c3051746"
      },
      "source": [
        "CL.visualize()"
      ],
      "execution_count": 25,
      "outputs": [
        {
          "output_type": "display_data",
          "data": {
            "image/png": "[encoded data removed]",
            "text/plain": [
              "<Figure size 432x288 with 1 Axes>"
            ]
          },
          "metadata": {
            "needs_background": "light"
          }
        }
      ]
    },
    {
      "cell_type": "code",
      "metadata": {
        "colab": {
          "base_uri": "https://localhost:8080/",
          "height": 78
        },
        "id": "7A7JGv-DS61B",
        "outputId": "b9382413-2ac4-4bfc-8aff-4d7d97ea1113"
      },
      "source": [
        "CL.evaluate()"
      ],
      "execution_count": 26,
      "outputs": [
        {
          "output_type": "execute_result",
          "data": {
            "text/html": [
              "<div>\n",
              "<style scoped>\n",
              "    .dataframe tbody tr th:only-of-type {\n",
              "        vertical-align: middle;\n",
              "    }\n",
              "\n",
              "    .dataframe tbody tr th {\n",
              "        vertical-align: top;\n",
              "    }\n",
              "\n",
              "    .dataframe thead th {\n",
              "        text-align: right;\n",
              "    }\n",
              "</style>\n",
              "<table border=\"1\" class=\"dataframe\">\n",
              "  <thead>\n",
              "    <tr style=\"text-align: right;\">\n",
              "      <th></th>\n",
              "      <th>accuracy</th>\n",
              "      <th>precision</th>\n",
              "      <th>recall</th>\n",
              "      <th>f1-score</th>\n",
              "    </tr>\n",
              "  </thead>\n",
              "  <tbody>\n",
              "    <tr>\n",
              "      <th>0</th>\n",
              "      <td>0.356766</td>\n",
              "      <td>[0.1188118811881188, 0.4877384196185286]</td>\n",
              "      <td>[0.11320754716981132, 0.5014005602240896]</td>\n",
              "      <td>[0.11594202898550725, 0.4944751381215469]</td>\n",
              "    </tr>\n",
              "  </tbody>\n",
              "</table>\n",
              "</div>"
            ],
            "text/plain": [
              "   accuracy  ...                                   f1-score\n",
              "0  0.356766  ...  [0.11594202898550725, 0.4944751381215469]\n",
              "\n",
              "[1 rows x 4 columns]"
            ]
          },
          "metadata": {},
          "execution_count": 26
        }
      ]
    }
  ]
}