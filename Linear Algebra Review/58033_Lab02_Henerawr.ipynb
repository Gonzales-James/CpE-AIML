{
  "nbformat": 4,
  "nbformat_minor": 0,
  "metadata": {
    "colab": {
      "name": "58033_Lab02_Henerawr.ipynb",
      "provenance": [],
      "collapsed_sections": [],
      "authorship_tag": "ABX9TyN60uE9EGrtyeN/SgXyZswi",
      "include_colab_link": true
    },
    "kernelspec": {
      "name": "python3",
      "display_name": "Python 3"
    },
    "language_info": {
      "name": "python"
    }
  },
  "cells": [
    {
      "cell_type": "markdown",
      "metadata": {
        "id": "view-in-github",
        "colab_type": "text"
      },
      "source": [
        "<a href=\"https://colab.research.google.com/github/Gonzales-James/CpE-AIML/blob/main/Linear%20Algebra%20Review/58033_Lab02_Henerawr.ipynb\" target=\"_parent\"><img src=\"https://colab.research.google.com/assets/colab-badge.svg\" alt=\"Open In Colab\"/></a>"
      ]
    },
    {
      "cell_type": "code",
      "metadata": {
        "id": "BqgLDGWaCk5R"
      },
      "source": [
        "import numpy as np "
      ],
      "execution_count": 1,
      "outputs": []
    },
    {
      "cell_type": "markdown",
      "metadata": {
        "id": "RJva5aqoDSgm"
      },
      "source": [
        "**Problem 4.c: Computational Programming (Also Laboratory 2)**\n",
        "\n",
        "Encode Equations 3.1 to 3.4 as the class `LRegression` wherein:\n",
        "\n",
        "* `LRegression` should be instantiated with a dataset $X$, a ground truth vector $y$, and a parameter vector $\\theta$. Each parameter should have a data type of `numpy.array`.\n",
        "* It should further have `methods`reflecting to at least the four (4) aforementioned equations. Each should have a return value.\n"
      ]
    },
    {
      "cell_type": "code",
      "metadata": {
        "id": "8NB9R-9eDMWb"
      },
      "source": [
        "class LRegression:\n",
        "  def __init__(self, datasetX, truth_vetor_y, vector):\n",
        "    self.datasetX = datasetX\n",
        "    self.truth_vector = truth_vetor_y\n",
        "    self.vector = vector\n",
        "\n",
        "  def vector_magnitude(self):\n",
        "    magn = np.linalg.norm(self.vector)\n",
        "    return magn\n",
        "\n",
        "  def vect_prod(self): # EQ 3.1\n",
        "    self.z = np.dot(self.datasetX, self.vector)\n",
        "    return self.z\n",
        "  \n",
        "  def sigmoid_function(self): #EQ 3.3\n",
        "    self.sig = 1 / (1 + np.exp(-(self.z)))\n",
        "    return self.sig\n",
        "  \n",
        "  def logistic_loss(self): #EQ 3.4\n",
        "    m = self.datasetX.shape[0]\n",
        "    answer = (1/m) * np.dot(self.datasetX.T, (self.sig - self.truth_vector))\n",
        "    return answer"
      ],
      "execution_count": 2,
      "outputs": []
    },
    {
      "cell_type": "code",
      "metadata": {
        "id": "G2nmtjrqDbPS"
      },
      "source": [
        " X = np.array([2,2,5,3])\n",
        "Vector = np.array([2,3,5,6])\n",
        "Y_Vector = np.array([2,2,1,3])\n",
        "Lregression_class = LRegression(X, Y_Vector, Vector)"
      ],
      "execution_count": 3,
      "outputs": []
    },
    {
      "cell_type": "code",
      "metadata": {
        "colab": {
          "base_uri": "https://localhost:8080/"
        },
        "id": "g4_rhWGlDclO",
        "outputId": "e075d3e9-aa57-43b0-ddd2-979f3087b12d"
      },
      "source": [
        "Lregression_class.vector_magnitude()"
      ],
      "execution_count": 4,
      "outputs": [
        {
          "output_type": "execute_result",
          "data": {
            "text/plain": [
              "8.602325267042627"
            ]
          },
          "metadata": {},
          "execution_count": 4
        }
      ]
    },
    {
      "cell_type": "code",
      "metadata": {
        "colab": {
          "base_uri": "https://localhost:8080/"
        },
        "id": "S4wu4TxrDerN",
        "outputId": "6a52287c-99bf-4c69-84c6-368d14ba2ec6"
      },
      "source": [
        "Lregression_class.vect_prod()"
      ],
      "execution_count": 5,
      "outputs": [
        {
          "output_type": "execute_result",
          "data": {
            "text/plain": [
              "53"
            ]
          },
          "metadata": {},
          "execution_count": 5
        }
      ]
    },
    {
      "cell_type": "code",
      "metadata": {
        "colab": {
          "base_uri": "https://localhost:8080/"
        },
        "id": "Dnjin5h4DgDb",
        "outputId": "a2ce639e-46b1-4139-daad-7ed578569682"
      },
      "source": [
        "Lregression_class.sigmoid_function()"
      ],
      "execution_count": 6,
      "outputs": [
        {
          "output_type": "execute_result",
          "data": {
            "text/plain": [
              "1.0"
            ]
          },
          "metadata": {},
          "execution_count": 6
        }
      ]
    },
    {
      "cell_type": "code",
      "metadata": {
        "colab": {
          "base_uri": "https://localhost:8080/"
        },
        "id": "qTv_tIPbDhWa",
        "outputId": "d46660c1-4b71-4900-ee24-884def4d6bfd"
      },
      "source": [
        "Lregression_class.logistic_loss()"
      ],
      "execution_count": 7,
      "outputs": [
        {
          "output_type": "execute_result",
          "data": {
            "text/plain": [
              "-2.5"
            ]
          },
          "metadata": {},
          "execution_count": 7
        }
      ]
    }
  ]
}