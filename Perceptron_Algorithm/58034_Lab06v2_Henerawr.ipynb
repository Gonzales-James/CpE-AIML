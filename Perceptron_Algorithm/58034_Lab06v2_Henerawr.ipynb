{
  "nbformat": 4,
  "nbformat_minor": 0,
  "metadata": {
    "colab": {
      "name": "58034_Lab06v2_Henerawr.ipynb",
      "provenance": [],
      "collapsed_sections": [],
      "authorship_tag": "ABX9TyNpDVV+6c9ArPrN+KLBgkgl",
      "include_colab_link": true
    },
    "kernelspec": {
      "name": "python3",
      "display_name": "Python 3"
    },
    "language_info": {
      "name": "python"
    }
  },
  "cells": [
    {
      "cell_type": "markdown",
      "metadata": {
        "id": "view-in-github",
        "colab_type": "text"
      },
      "source": [
        "<a href=\"https://colab.research.google.com/github/Gonzales-James/CpE-AIML/blob/main/Perceptron_Algorithm/58034_Lab06v2_Henerawr.ipynb\" target=\"_parent\"><img src=\"https://colab.research.google.com/assets/colab-badge.svg\" alt=\"Open In Colab\"/></a>"
      ]
    },
    {
      "cell_type": "markdown",
      "source": [
        "## **About the Dataset**\n",
        "\n",
        "***Purpose of the Dataset*** \n",
        "\n",
        "The purpose of this dataset is to locate the lumps of the patient caused by the breast cancer. It also aims to observe which features will be most helpful in predicting malignant or benign cancer and to see general trends that may aid in model selection and hyper parameter selection. This dataset is used to classify whether breast cancer is benign or malignant.\n",
        "\n",
        "\\\\\n",
        "\n",
        "***Need statement*** \n",
        "\n",
        "One of the leading cancer diseases that is developed in many countries is breast cancer. The death toll dues to breast cancer have increased drastically in last few decades. The main issue that is relevant to its cure is early recognition of the disease. Early recognition of this disease can increase the survival rate of the women who are being diagnosed with breast cancer. One solution is integrating Data Analytics in to the medical field in order to resolve this issue.   \n",
        "\n",
        "\\\\\n",
        "\n",
        "***Significance*** \n",
        "\n",
        "The significance of this dataset is to recognize the disease early. Early diagnosis or recognition of breast cancer can increase the chance of survival and the patient can have their timely clinical treatment. With early recognition and classification of the disease can avoid unnecessary treatments of the patient. Classification and data mining methods are a productive process to classify and predict data especially in the medical field."
      ],
      "metadata": {
        "id": "hhbMQHpREAuJ"
      }
    },
    {
      "cell_type": "markdown",
      "source": [
        "# Back Propagation"
      ],
      "metadata": {
        "id": "2Pl2kqTUEef4"
      }
    },
    {
      "cell_type": "code",
      "execution_count": 1,
      "metadata": {
        "id": "zM5o5z4bDojW"
      },
      "outputs": [],
      "source": [
        "from sklearn.model_selection import train_test_split\n",
        "from sklearn.datasets import load_breast_cancer\n",
        "import pandas as pd\n",
        "import numpy as np"
      ]
    },
    {
      "cell_type": "code",
      "source": [
        "data = load_breast_cancer()\n",
        "\n",
        "# Get features and target\n",
        "X=data.data\n",
        "y=data.target"
      ],
      "metadata": {
        "id": "_gGYeDOuEfMk"
      },
      "execution_count": 2,
      "outputs": []
    },
    {
      "cell_type": "code",
      "source": [
        "y = pd.get_dummies(y).values\n",
        "X = X[::,1:5]\n",
        "\n",
        "y[:3]"
      ],
      "metadata": {
        "colab": {
          "base_uri": "https://localhost:8080/"
        },
        "id": "l3KVlYLOEj6s",
        "outputId": "c5d39ebe-39cf-4b4c-9694-ab35236ed558"
      },
      "execution_count": 3,
      "outputs": [
        {
          "output_type": "execute_result",
          "data": {
            "text/plain": [
              "array([[1, 0],\n",
              "       [1, 0],\n",
              "       [1, 0]], dtype=uint8)"
            ]
          },
          "metadata": {},
          "execution_count": 3
        }
      ]
    },
    {
      "cell_type": "code",
      "source": [
        "class Back_Propagation:\n",
        "  def __init__ (self, X, y):\n",
        "    self.X = X\n",
        "    self.y = y\n",
        "    self.X_train, self.X_test, self.y_train, self.y_test = train_test_split(self.X, self.y, test_size=20, random_state=4)\n",
        "    # self.x = x\n",
        "    # self.y_pred = y_pred\n",
        "    # self.y_true = y_true\n",
        "    self.learning_rate = 0.1\n",
        "    self.iterations = 1000\n",
        "    #self.N = self.y_train.size\n",
        "    self.input_size = 4\n",
        "    self.hidden_size = 2\n",
        "    self.output_size = 2\n",
        "    self.results = pd.DataFrame(columns=[\"mse\", \"accuracy\"])\n",
        "    self.W1 = np.random.normal(scale=0.5, size=(self.input_size, self.hidden_size))\n",
        "    self.W2 = np.random.normal(scale=0.5, size=(self.hidden_size, self.output_size))\n",
        "  \n",
        "  def sigmoid(x):\n",
        "    return 1 / (1 + np.exp(-x))\n",
        "  \n",
        "  def mean_squared_error(y_pred, y_true):\n",
        "    return ((y_pred - y_true)**2).sum() / (2*y_pred.size)\n",
        "  \n",
        "  def accuracy(y_pred, y_true):\n",
        "    acc = y_pred.argmax(axis=1) == y_true.argmax(axis=1)\n",
        "    return acc.mean()\n",
        "  \n",
        "  def bp(self):\n",
        "    for itr in range(self.iterations):    \n",
        "      # feedforward propagation\n",
        "      # on hidden layer\n",
        "      self.Z1 = np.dot(self.X_train, self.W1)\n",
        "      self.A1 = Back_Propagation.sigmoid(self.Z1)\n",
        "\n",
        "      # on output layer\n",
        "      self.Z2 = np.dot(self.A1, self.W2)\n",
        "      self.A2 = Back_Propagation.sigmoid(self.Z2)\n",
        "      \n",
        "      \n",
        "      # Calculating error\n",
        "      mse = Back_Propagation.mean_squared_error(self.A2, self.y_train)\n",
        "      acc = Back_Propagation.accuracy(self.A2, self.y_train)\n",
        "      self.results = self.results.append({\"mse\":mse, \"accuracy\":acc},ignore_index=True )\n",
        "      \n",
        "      # backpropagation\n",
        "      self.E1 = self.A2 - self.y_train\n",
        "      self.dW1 = self.E1 * self.A2 * (1 - self.A2)\n",
        "\n",
        "      self.E2 = np.dot(self.dW1, self.W2.T)\n",
        "      self.dW2 = self.E2 * self.A1 * (1 - self.A1)\n",
        "\n",
        "      \n",
        "      # weight updates\n",
        "      self.W2_update = np.dot(self.A1.T, self.dW1) / self.y_train.size\n",
        "      self.W1_update = np.dot(self.X_train.T, self.dW2) / self.y_train.size\n",
        "\n",
        "      self.W2 = self.W2 - self.learning_rate * self.W2_update\n",
        "      self.W1 = self.W1 - self.learning_rate * self.W1_update\n",
        "    return self.results\n",
        "\n",
        "  def visualize_v1(self):\n",
        "     return self.results[\"mse\"].plot(title=\"Mean Squared Error\")\n",
        "\n",
        "  def visualize_v2(self):\n",
        "    return self.results.accuracy.plot(title=\"Accuracy\")\n"
      ],
      "metadata": {
        "id": "VOvMr1_5F7rp"
      },
      "execution_count": 4,
      "outputs": []
    },
    {
      "cell_type": "code",
      "source": [
        "BP = Back_Propagation(X, y)"
      ],
      "metadata": {
        "id": "Zfzn2fJ-J7XU"
      },
      "execution_count": 5,
      "outputs": []
    },
    {
      "cell_type": "code",
      "source": [
        "BP.bp()"
      ],
      "metadata": {
        "colab": {
          "base_uri": "https://localhost:8080/",
          "height": 411
        },
        "id": "uhnk4pBbSSpr",
        "outputId": "9a3aba59-dcbc-484c-f138-467dc9d81b7a"
      },
      "execution_count": 6,
      "outputs": [
        {
          "output_type": "execute_result",
          "data": {
            "text/html": [
              "<div>\n",
              "<style scoped>\n",
              "    .dataframe tbody tr th:only-of-type {\n",
              "        vertical-align: middle;\n",
              "    }\n",
              "\n",
              "    .dataframe tbody tr th {\n",
              "        vertical-align: top;\n",
              "    }\n",
              "\n",
              "    .dataframe thead th {\n",
              "        text-align: right;\n",
              "    }\n",
              "</style>\n",
              "<table border=\"1\" class=\"dataframe\">\n",
              "  <thead>\n",
              "    <tr style=\"text-align: right;\">\n",
              "      <th></th>\n",
              "      <th>mse</th>\n",
              "      <th>accuracy</th>\n",
              "    </tr>\n",
              "  </thead>\n",
              "  <tbody>\n",
              "    <tr>\n",
              "      <th>0</th>\n",
              "      <td>0.121056</td>\n",
              "      <td>0.621129</td>\n",
              "    </tr>\n",
              "    <tr>\n",
              "      <th>1</th>\n",
              "      <td>0.121015</td>\n",
              "      <td>0.621129</td>\n",
              "    </tr>\n",
              "    <tr>\n",
              "      <th>2</th>\n",
              "      <td>0.120973</td>\n",
              "      <td>0.621129</td>\n",
              "    </tr>\n",
              "    <tr>\n",
              "      <th>3</th>\n",
              "      <td>0.120933</td>\n",
              "      <td>0.621129</td>\n",
              "    </tr>\n",
              "    <tr>\n",
              "      <th>4</th>\n",
              "      <td>0.120893</td>\n",
              "      <td>0.621129</td>\n",
              "    </tr>\n",
              "    <tr>\n",
              "      <th>...</th>\n",
              "      <td>...</td>\n",
              "      <td>...</td>\n",
              "    </tr>\n",
              "    <tr>\n",
              "      <th>995</th>\n",
              "      <td>0.117664</td>\n",
              "      <td>0.621129</td>\n",
              "    </tr>\n",
              "    <tr>\n",
              "      <th>996</th>\n",
              "      <td>0.117664</td>\n",
              "      <td>0.621129</td>\n",
              "    </tr>\n",
              "    <tr>\n",
              "      <th>997</th>\n",
              "      <td>0.117664</td>\n",
              "      <td>0.621129</td>\n",
              "    </tr>\n",
              "    <tr>\n",
              "      <th>998</th>\n",
              "      <td>0.117664</td>\n",
              "      <td>0.621129</td>\n",
              "    </tr>\n",
              "    <tr>\n",
              "      <th>999</th>\n",
              "      <td>0.117664</td>\n",
              "      <td>0.621129</td>\n",
              "    </tr>\n",
              "  </tbody>\n",
              "</table>\n",
              "<p>1000 rows × 2 columns</p>\n",
              "</div>"
            ],
            "text/plain": [
              "          mse  accuracy\n",
              "0    0.121056  0.621129\n",
              "1    0.121015  0.621129\n",
              "2    0.120973  0.621129\n",
              "3    0.120933  0.621129\n",
              "4    0.120893  0.621129\n",
              "..        ...       ...\n",
              "995  0.117664  0.621129\n",
              "996  0.117664  0.621129\n",
              "997  0.117664  0.621129\n",
              "998  0.117664  0.621129\n",
              "999  0.117664  0.621129\n",
              "\n",
              "[1000 rows x 2 columns]"
            ]
          },
          "metadata": {},
          "execution_count": 6
        }
      ]
    },
    {
      "cell_type": "code",
      "source": [
        "BP.visualize_v1()"
      ],
      "metadata": {
        "colab": {
          "base_uri": "https://localhost:8080/",
          "height": 297
        },
        "id": "Wzkmfl9IPMta",
        "outputId": "b776ebf9-f15d-4ced-9524-1f4d74bebef2"
      },
      "execution_count": 7,
      "outputs": [
        {
          "output_type": "execute_result",
          "data": {
            "text/plain": [
              "<matplotlib.axes._subplots.AxesSubplot at 0x7f6ef257b8d0>"
            ]
          },
          "metadata": {},
          "execution_count": 7
        },
        {
          "output_type": "display_data",
          "data": {
            "image/png": "[encoded data removed]",
            "text/plain": [
              "<Figure size 432x288 with 1 Axes>"
            ]
          },
          "metadata": {
            "needs_background": "light"
          }
        }
      ]
    },
    {
      "cell_type": "code",
      "source": [
        "BP.visualize_v2()"
      ],
      "metadata": {
        "colab": {
          "base_uri": "https://localhost:8080/",
          "height": 297
        },
        "id": "WUb0gmeQR-Tc",
        "outputId": "e0dc7de2-7a0d-4e5b-81ba-1f07ebcd6004"
      },
      "execution_count": 8,
      "outputs": [
        {
          "output_type": "execute_result",
          "data": {
            "text/plain": [
              "<matplotlib.axes._subplots.AxesSubplot at 0x7f6ef24c3e10>"
            ]
          },
          "metadata": {},
          "execution_count": 8
        },
        {
          "output_type": "display_data",
          "data": {
            "image/png": "[encoded data removed]",
            "text/plain": [
              "<Figure size 432x288 with 1 Axes>"
            ]
          },
          "metadata": {
            "needs_background": "light"
          }
        }
      ]
    },
    {
      "cell_type": "markdown",
      "source": [
        "# Gradient Descent"
      ],
      "metadata": {
        "id": "m03kd1FfE_AM"
      }
    },
    {
      "cell_type": "code",
      "source": [
        "data = load_breast_cancer()\n",
        "\n",
        "X=data.data\n",
        "y=data.data\n",
        "\n",
        "X = X[:20:,1:2]\n",
        "y = y[:20:,1:3]\n",
        "y = y[::,1]\n",
        "y = y.reshape(-1,1)\n",
        "\n",
        "X = np.array(X).ravel()\n",
        "y = np.array(y).ravel()"
      ],
      "metadata": {
        "id": "icUMPSzvWRqm"
      },
      "execution_count": 9,
      "outputs": []
    },
    {
      "cell_type": "code",
      "source": [
        "class Gradient_Descent:\n",
        "  # def __init__ (self, X, y):\n",
        "  #   self.X = X\n",
        "  #   self.y = y\n",
        "  #   # self.learning_rate = learning_rate\n",
        "  #   # self.iterations = iterations\n",
        "  #   # self.lr = lr\n",
        "  #   # self.n_iter = n_iter\n",
        "  #   # self.theta = theta\n",
        "  #   # self.X_b = X_b\n",
        "\n",
        "  def  cal_cost(theta,X,y):\n",
        "    m = len(y)\n",
        "    predictions = X.dot(theta)\n",
        "    cost = (1/2*m) * np.sum(np.square(predictions-y))\n",
        "    return cost\n",
        "  \n",
        "  def stocashtic_gradient_descent(X,y,theta,learning_rate=0.01,iterations=10):\n",
        "    m = len(y)\n",
        "    cost_history = np.zeros(iterations)\n",
        "    \n",
        "    \n",
        "    for it in range(iterations):\n",
        "        cost =0.0\n",
        "        for i in range(m):\n",
        "            rand_ind = np.random.randint(0,m)\n",
        "            X_i = X[rand_ind,:].reshape(1,X.shape[1])\n",
        "            y_i = y[rand_ind].reshape(1,1)\n",
        "            prediction = np.dot(X_i,theta)\n",
        "\n",
        "            theta = theta -(1/m)*learning_rate*( X_i.T.dot((prediction - y_i)))\n",
        "            cost += Gradient_Descent.cal_cost(theta,X_i,y_i)\n",
        "        cost_history[it]  = cost\n",
        "        \n",
        "    return theta, cost_history\n",
        "\n",
        "  def result(X, y):\n",
        "    lr =0.05\n",
        "    n_iter = 30000\n",
        "\n",
        "    theta = np.random.randn(2,1)\n",
        "\n",
        "    X_b = np.c_[np.ones((len(X),1)),X]\n",
        "    theta,cost_history = Gradient_Descent.stocashtic_gradient_descent(X_b,y,theta,lr,n_iter)\n",
        "\n",
        "\n",
        "    print('Theta0:          {:0.3f},\\nTheta1:          {:0.3f}'.format(theta[0][0],theta[1][0]))\n",
        "    print('Final cost/MSE:  {:0.3f}'.format(cost_history[-1]))\n",
        "  "
      ],
      "metadata": {
        "id": "Ol8xAluzZNbZ"
      },
      "execution_count": 10,
      "outputs": []
    },
    {
      "cell_type": "code",
      "source": [
        "GD = Gradient_Descent"
      ],
      "metadata": {
        "id": "vkVBfOwRbe4z"
      },
      "execution_count": 11,
      "outputs": []
    },
    {
      "cell_type": "code",
      "source": [
        "GD.result(X, y)"
      ],
      "metadata": {
        "colab": {
          "base_uri": "https://localhost:8080/"
        },
        "id": "D1yOxiSsb3S0",
        "outputId": "136bdd07-3093-4793-f1f0-42b2c6037897"
      },
      "execution_count": 12,
      "outputs": [
        {
          "output_type": "stream",
          "name": "stdout",
          "text": [
            "Theta0:          120.723,\n",
            "Theta1:          -0.424\n",
            "Final cost/MSE:  619.091\n"
          ]
        }
      ]
    }
  ]
}