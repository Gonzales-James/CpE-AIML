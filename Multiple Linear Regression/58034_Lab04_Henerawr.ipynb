{
  "nbformat": 4,
  "nbformat_minor": 0,
  "metadata": {
    "colab": {
      "name": "58034_Lab04_Henerawr.ipynb",
      "provenance": [],
      "collapsed_sections": [],
      "include_colab_link": true
    },
    "kernelspec": {
      "name": "python3",
      "display_name": "Python 3"
    },
    "language_info": {
      "name": "python"
    }
  },
  "cells": [
    {
      "cell_type": "markdown",
      "metadata": {
        "id": "view-in-github",
        "colab_type": "text"
      },
      "source": [
        "<a href=\"https://colab.research.google.com/github/Gonzales-James/CpE-AIML/blob/main/Multiple%20Linear%20Regression/58034_Lab04_Henerawr.ipynb\" target=\"_parent\"><img src=\"https://colab.research.google.com/assets/colab-badge.svg\" alt=\"Open In Colab\"/></a>"
      ]
    },
    {
      "cell_type": "markdown",
      "metadata": {
        "id": "Q3Ki7Eix6HfL"
      },
      "source": [
        "# Topic 4 Lab 2: Multiple Linear Regression\n"
      ]
    },
    {
      "cell_type": "markdown",
      "metadata": {
        "id": "0cApvlgu6RXq"
      },
      "source": [
        "Create a class named `MultipleLinearRegression()` wherein it can compute for the linear regression for multiple variables. The class will be required to have the following helper methods:\n",
        "> 1. `correlations(X, y)`\n",
        ">> input: 2 Rank 2 matrices\n",
        ">>\n",
        ">> output: A vector that contains the covariances of each feature to the target. \n",
        "> 3. `train(X, y)`\n",
        ">> input: 2 Rank 2 matrices\n",
        ">>\n",
        ">> output: the weights of the linear regressor. Use least squares method for this part. If the training fails due to the singularity of the matrix, raise a custom error pertaining to autocorrelation.\n",
        "> 4. `predict(x)`\n",
        ">> input: A testing vector. *Note*: this function should only accept vectors.\n",
        ">>\n",
        ">> output: the predicted value. Note: the procedure in solving for the predicted value should be vectorized. Use the concept of matrix multiplication. Do not forget to pad the matrix for the bias term.\n",
        "> 5. `evaluate()`\n",
        ">> input: *none*\n",
        ">>\n",
        ">> output: a `DataFrame` that displays the SST, SSR, SST, MSE, RMSE, R-squared, and the Adjusted R-squared. Note: You should use the `predict()` method here.\n",
        "> 5. `visualize(testX, testY)`\n",
        ">> input: the dataset training sets and their ground truths.\n",
        ">>\n",
        ">> output: a visualization of the linear regressor over the testing dataset. It should be saved as a .jpg file into the running notebook with a dpi of 400."
      ]
    },
    {
      "cell_type": "code",
      "metadata": {
        "id": "0UUrD4zJ6EVj"
      },
      "source": [
        "import numpy as np\n",
        "import matplotlib.pyplot as plt\n",
        "import pandas as pd\n",
        "## No other packages or libraries can be added in this cell"
      ],
      "execution_count": 1,
      "outputs": []
    },
    {
      "cell_type": "code",
      "metadata": {
        "id": "6WzxCuxQ-xqb"
      },
      "source": [
        "### YOUR CODE HERE\n",
        "class MultipleLinearRegression():\n",
        "  \n",
        "  def correlations(X, y):\n",
        "    global corr, corr1\n",
        "    y = y.values\n",
        "    a = X.iloc[::,0].values\n",
        "    b = X.iloc[::,1].values\n",
        "    X = a - a.mean()\n",
        "    X1 = b - b.mean()\n",
        "    Y = y - y.mean()\n",
        "    cov = np.mean(X * Y)\n",
        "    cov1 = np.mean(X1 * Y)\n",
        "    std_X = np.std(a)\n",
        "    std_X1 = np.std(b)\n",
        "    std_y = np.std(y)\n",
        "    corr = cov / (std_X * std_y)\n",
        "    corr1 = cov1 / (std_X1 * std_y)\n",
        "    return print(\"R = \", corr1, corr) \n",
        "\n",
        "  \n",
        "  # def train(X,y):\n",
        "  #   global theta\n",
        "  #   #y = np.array(y).reshape(-1,1)\n",
        "  #   #X_train = X.T\n",
        "  #   X_dot = X.T @ X\n",
        "  #   pseudoinv = np.linalg.inv(X_dot)\n",
        "  #   y_dot = X.T @ y\n",
        "  #   theta = pseudoinv @ y_dot\n",
        "  #   return theta\n",
        "\n",
        "  def train(X,y):\n",
        "    global w0, w1\n",
        "    y = y.values\n",
        "    a = X.iloc[::,0].values\n",
        "    b = X.iloc[::,1].values\n",
        "\n",
        "    SD_x = np.std(a)\n",
        "    SD_x1 = np.std(b)\n",
        "    SD_y = np.std(y)\n",
        "\n",
        "    r = np.corrcoef(a, y)[0,1]\n",
        "    r1 = np.corrcoef(b, y)[0,1]\n",
        "\n",
        "    w1 = r * (SD_y/SD_x)\n",
        "    w1_1 = r1 * (SD_y/SD_x1)\n",
        "\n",
        "    w0 = y.mean() - w1 * a.mean()\n",
        "    w2 = y.mean() - w1_1 * b.mean()\n",
        "    return print(\"w0: \", w0, \"\\nw1: \", w1, \"\\nw2: \", w2)\n",
        "\n",
        "  def predict(X):\n",
        "    global pred\n",
        "    a = X.iloc[::,0].values\n",
        "    pred = w0 + w1 * a\n",
        "    index = np.array(list(range(0, pred.size)))\n",
        "    return print(\"y_hat = \", pred, \", i = \", index)\n",
        "\n",
        "  def evaluate(): # note: y_hat = predicted value; y = orig value; y_bar = y mean\n",
        "    SSE = np.sum(np.square(pred - y[0:5]))\n",
        "    SST = np.sum(np.square(y - y.mean()))\n",
        "    MSE = np.mean(np.square(pred - y[0:5]))\n",
        "    r2 = 1 - (SSE/SST)\n",
        "    n = y.size \n",
        "    k = 1\n",
        "    df = {'SST' : SST,\n",
        "         'SSR' : np.sum(np.square(pred - y.mean())),\n",
        "         'SSE' : SSE,\n",
        "         'MSE' : MSE,\n",
        "         'RMSE' : np.sqrt(MSE),\n",
        "         'R-squared' : r2,\n",
        "         'Adjusted R-squared' : 1 - ((1 - r2)*(n - 1)/(n-k-1))}\n",
        "    return df\n",
        "  \n",
        "  def visualize(X_test, y_test):\n",
        "    a = X_test.iloc[::,0].values\n",
        "    plt.figure(figsize=(5,5))\n",
        "    plt.grid()\n",
        "    plt.scatter(a, y_test)\n",
        "    plt.plot(a, pred, color='red')\n",
        "    return plt.show()\n",
        "  \n",
        "  ### Program the required methods\n",
        "\n",
        "  ### You may add other helper functions in to make your code cleaner"
      ],
      "execution_count": 2,
      "outputs": []
    },
    {
      "cell_type": "code",
      "metadata": {
        "id": "7RB4i8MI96Ys"
      },
      "source": [
        "### Testing Data\n",
        "### DO NOT DELETE NOR MODIFY THIS CELL\n",
        "### Data can be retrieved from the git repo\n",
        "X = pd.read_csv(\"/content/real_estate_price_size_year.csv\") \n",
        "y = X['price']\n",
        "X = X.drop('price', axis=1)\n",
        "X_train, X_test = X.iloc[0:95], X.iloc[95:]\n",
        "y_train, y_test = y.iloc[0:95], y.iloc[95:]"
      ],
      "execution_count": 3,
      "outputs": []
    },
    {
      "cell_type": "code",
      "metadata": {
        "id": "zGY61WiZ-Ze5"
      },
      "source": [
        "## TEST #1 (Max pts: 5)\n",
        "## DO NOT DELETE NOR MODIFY THIS CELL\n",
        "regressor = MultipleLinearRegression"
      ],
      "execution_count": 4,
      "outputs": []
    },
    {
      "cell_type": "code",
      "metadata": {
        "id": "IKuHQIceA2D0",
        "colab": {
          "base_uri": "https://localhost:8080/"
        },
        "outputId": "50bcaffc-6109-43c1-8ca3-84df1bcbf98d"
      },
      "source": [
        "## TEST #2 (Max pts: 10)\n",
        "## DO NOT DELETE NOR MODIFY THIS CELL\n",
        "R = regressor.correlations(X, y)\n",
        "R"
      ],
      "execution_count": 5,
      "outputs": [
        {
          "output_type": "stream",
          "name": "stdout",
          "text": [
            "R =  0.09301407775270563 0.86298272670127\n"
          ]
        }
      ]
    },
    {
      "cell_type": "markdown",
      "metadata": {
        "id": "iKPsTkB3BQuj"
      },
      "source": [
        "Expected output value:\n",
        "$$R = \\begin{bmatrix}0.09 & 0.86\\end{bmatrix}$$"
      ]
    },
    {
      "cell_type": "code",
      "metadata": {
        "id": "FlWF-AQEBnwL",
        "colab": {
          "base_uri": "https://localhost:8080/"
        },
        "outputId": "3cf68bf6-2831-47f1-f700-92c8fa651c27"
      },
      "source": [
        "## TEST #3 (Max pts: 15)\n",
        "## DO NOT DELETE NOR MODIFY THIS CELL\n",
        "regressor.train(X_train, y_train)\n",
        "#regressor.model_"
      ],
      "execution_count": 6,
      "outputs": [
        {
          "output_type": "stream",
          "name": "stdout",
          "text": [
            "w0:  97706.91683160246 \n",
            "w1:  228.80069224806263 \n",
            "w2:  -3483566.2271210123\n"
          ]
        }
      ]
    },
    {
      "cell_type": "markdown",
      "metadata": {
        "id": "Jpl2Cz9SB6fz"
      },
      "source": [
        "Expected output value:\n",
        "$$\\omega = \\begin{bmatrix}\\omega_1 \\\\ \\omega_2 \\\\ \\omega_0\\end{bmatrix} = \\begin{bmatrix}227.70\\\\ 2916.78 \\\\ -5772267.02\\end{bmatrix}$$"
      ]
    },
    {
      "cell_type": "code",
      "metadata": {
        "id": "k9Q8e7JXC9U7",
        "colab": {
          "base_uri": "https://localhost:8080/"
        },
        "outputId": "0ef6d668-8f95-491c-d703-dbc1aed5ee48"
      },
      "source": [
        "  ## TEST #4 (Max pts: 35)\n",
        "## DO NOT DELETE NOR MODIFY THIS CELL\n",
        "preds = regressor.predict(X_test)\n",
        "preds"
      ],
      "execution_count": 7,
      "outputs": [
        {
          "output_type": "stream",
          "name": "stdout",
          "text": [
            "y_hat =  [223501.53742959 335073.90699743 441994.75849187 246036.1176091\n",
            " 259077.75706724] , i =  [0 1 2 3 4]\n"
          ]
        }
      ]
    },
    {
      "cell_type": "markdown",
      "metadata": {
        "id": "BdpaVDV3DBzr"
      },
      "source": [
        "Expected output value:\n",
        "$$\\hat{y}_i = \\begin{bmatrix} 210962.87 \\\\ 324367.17 \\\\ 424013.31 \\\\ 251928.01 \\\\ 238092.94 \\end{bmatrix}, i = \\{0,1,2,3,4\\}$$"
      ]
    },
    {
      "cell_type": "code",
      "metadata": {
        "id": "FUJuLe9pDArc",
        "colab": {
          "base_uri": "https://localhost:8080/"
        },
        "outputId": "84d28ce7-e726-4b88-82c5-be89fe0b0831"
      },
      "source": [
        "# TEST #5 (Max pts: 25)\n",
        "## DO NOT DELETE NOR MODIFY THIS CELL\n",
        "model_stats = regressor.evaluate()\n",
        "model_stats"
      ],
      "execution_count": 8,
      "outputs": [
        {
          "output_type": "execute_result",
          "data": {
            "text/plain": [
              "{'Adjusted R-squared': 0.8262230365142222,\n",
              " 'MSE': 20221484552.267723,\n",
              " 'R-squared': 0.827978359377715,\n",
              " 'RMSE': 142202.26634012457,\n",
              " 'SSE': 101107422761.33862,\n",
              " 'SSR': 32216351588.103653,\n",
              " 'SST': 587759902740.0532}"
            ]
          },
          "metadata": {},
          "execution_count": 8
        }
      ]
    },
    {
      "cell_type": "code",
      "metadata": {
        "id": "J7XW0jArDrQs",
        "colab": {
          "base_uri": "https://localhost:8080/",
          "height": 320
        },
        "outputId": "cd1e4b14-28b8-40cc-d6bb-556783bec680"
      },
      "source": [
        "## TEST #6 (Max pts: 15)\n",
        "## DO NOT DELETE NOR MODIFY THIS CELL\n",
        "regressor.visualize(X_test, y_test)"
      ],
      "execution_count": 9,
      "outputs": [
        {
          "output_type": "display_data",
          "data": {
            "image/png": "[encoded data removed]",
            "text/plain": [
              "<Figure size 360x360 with 1 Axes>"
            ]
          },
          "metadata": {
            "needs_background": "light"
          }
        }
      ]
    }
  ]
}