{
  "nbformat": 4,
  "nbformat_minor": 0,
  "metadata": {
    "colab": {
      "name": "58034_Lab01_Henerawr.ipynb",
      "provenance": [],
      "collapsed_sections": [],
      "include_colab_link": true
    },
    "kernelspec": {
      "name": "python3",
      "display_name": "Python 3"
    },
    "language_info": {
      "name": "python"
    }
  },
  "cells": [
    {
      "cell_type": "markdown",
      "metadata": {
        "id": "view-in-github",
        "colab_type": "text"
      },
      "source": [
        "<a href=\"https://colab.research.google.com/github/Gonzales-James/CpE-AIML/blob/main/Software%20Engineering%20Concepts%20Review/58034_Lab01_Henerawr.ipynb\" target=\"_parent\"><img src=\"https://colab.research.google.com/assets/colab-badge.svg\" alt=\"Open In Colab\"/></a>"
      ]
    },
    {
      "cell_type": "code",
      "metadata": {
        "id": "mnc4rTN-Mi9Y"
      },
      "source": [
        "import pandas as pd\n",
        "import numpy as np"
      ],
      "execution_count": 1,
      "outputs": []
    },
    {
      "cell_type": "markdown",
      "metadata": {
        "id": "w9_g4Wq4RXgi"
      },
      "source": [
        "### Task 1: Setting the Class Grades\n",
        "1. Create variable declarations for:\n",
        "        - Last Names\n",
        "        - First Names\n",
        "        - Grades for Prelims\n",
        "        - Grades for Midterms\n",
        "        - Grades for Finals \n",
        "2. Create a DataFrame (Pandas) for consolidating the data from Task 1.1"
      ]
    },
    {
      "cell_type": "code",
      "metadata": {
        "id": "lGaMyOssRu6v"
      },
      "source": [
        "student_num = [201811752,201866232,201811740,201818532,201899712]\n",
        "lnames = [\"Gonzales\", \"Bungcaras\", \"Ditan\", \"Nietes\", \"Cruz\"]\n",
        "fnames = [\"James\", \"Joshua\", \"Luigi\", \"Ralf\", \"Juan\"]\n",
        "pgrades = [94, 95, 85, 80, 60]\n",
        "mgrades = [80, 80, 92, 90, 60]\n",
        "fgrades = [90, 86, 72, 91, 60]\n",
        "class_grades = {'Student Number': student_num,\n",
        "                'First Name': fnames,\n",
        "                'Last Name': lnames,\n",
        "                'Prelim Grades': pgrades,\n",
        "                'Midterm Grades': mgrades,\n",
        "                'Finals Grades': fgrades\n",
        "                }"
      ],
      "execution_count": 2,
      "outputs": []
    },
    {
      "cell_type": "code",
      "metadata": {
        "colab": {
          "base_uri": "https://localhost:8080/",
          "height": 204
        },
        "id": "iCJwvib45ctr",
        "outputId": "724e020f-0048-4ca3-810d-7165edde53af"
      },
      "source": [
        "class_sheet = pd.DataFrame(class_grades)\n",
        "class_sheet"
      ],
      "execution_count": 3,
      "outputs": [
        {
          "output_type": "execute_result",
          "data": {
            "text/html": [
              "<div>\n",
              "<style scoped>\n",
              "    .dataframe tbody tr th:only-of-type {\n",
              "        vertical-align: middle;\n",
              "    }\n",
              "\n",
              "    .dataframe tbody tr th {\n",
              "        vertical-align: top;\n",
              "    }\n",
              "\n",
              "    .dataframe thead th {\n",
              "        text-align: right;\n",
              "    }\n",
              "</style>\n",
              "<table border=\"1\" class=\"dataframe\">\n",
              "  <thead>\n",
              "    <tr style=\"text-align: right;\">\n",
              "      <th></th>\n",
              "      <th>Student Number</th>\n",
              "      <th>First Name</th>\n",
              "      <th>Last Name</th>\n",
              "      <th>Prelim Grades</th>\n",
              "      <th>Midterm Grades</th>\n",
              "      <th>Finals Grades</th>\n",
              "    </tr>\n",
              "  </thead>\n",
              "  <tbody>\n",
              "    <tr>\n",
              "      <th>0</th>\n",
              "      <td>201811752</td>\n",
              "      <td>James</td>\n",
              "      <td>Gonzales</td>\n",
              "      <td>94</td>\n",
              "      <td>80</td>\n",
              "      <td>90</td>\n",
              "    </tr>\n",
              "    <tr>\n",
              "      <th>1</th>\n",
              "      <td>201866232</td>\n",
              "      <td>Joshua</td>\n",
              "      <td>Bungcaras</td>\n",
              "      <td>95</td>\n",
              "      <td>80</td>\n",
              "      <td>86</td>\n",
              "    </tr>\n",
              "    <tr>\n",
              "      <th>2</th>\n",
              "      <td>201811740</td>\n",
              "      <td>Luigi</td>\n",
              "      <td>Ditan</td>\n",
              "      <td>85</td>\n",
              "      <td>92</td>\n",
              "      <td>72</td>\n",
              "    </tr>\n",
              "    <tr>\n",
              "      <th>3</th>\n",
              "      <td>201818532</td>\n",
              "      <td>Ralf</td>\n",
              "      <td>Nietes</td>\n",
              "      <td>80</td>\n",
              "      <td>90</td>\n",
              "      <td>91</td>\n",
              "    </tr>\n",
              "    <tr>\n",
              "      <th>4</th>\n",
              "      <td>201899712</td>\n",
              "      <td>Juan</td>\n",
              "      <td>Cruz</td>\n",
              "      <td>60</td>\n",
              "      <td>60</td>\n",
              "      <td>60</td>\n",
              "    </tr>\n",
              "  </tbody>\n",
              "</table>\n",
              "</div>"
            ],
            "text/plain": [
              "   Student Number First Name  ... Midterm Grades  Finals Grades\n",
              "0       201811752      James  ...             80             90\n",
              "1       201866232     Joshua  ...             80             86\n",
              "2       201811740      Luigi  ...             92             72\n",
              "3       201818532       Ralf  ...             90             91\n",
              "4       201899712       Juan  ...             60             60\n",
              "\n",
              "[5 rows x 6 columns]"
            ]
          },
          "metadata": {},
          "execution_count": 3
        }
      ]
    },
    {
      "cell_type": "code",
      "metadata": {
        "id": "ukiwqy9CVJ5u"
      },
      "source": [
        "student_num = [201811757,201811180,201811740,201806931,201899712]\n",
        "lnames = [\"Manalo\", \"Dusaran\", \"Ditan\", \"Gamban\", \"Cruz\"]\n",
        "fnames = [\"James\", \"Joshua\", \"Luigi\", \"Ralf\", \"Juan\"]\n",
        "pgrades = [49, 50, 85, 80, 96]\n",
        "mgrades = [72, 47, 92, 90, 88]\n",
        "fgrades = [81, 49, 72, 91, 89]\n",
        "class_grades1 = {'Student Number': student_num,\n",
        "                'First Name': fnames,\n",
        "                'Last Name': lnames,\n",
        "                'Prelim Grades': pgrades,\n",
        "                'Midterm Grades': mgrades,\n",
        "                'Finals Grades': fgrades\n",
        "                }"
      ],
      "execution_count": 4,
      "outputs": []
    },
    {
      "cell_type": "code",
      "metadata": {
        "colab": {
          "base_uri": "https://localhost:8080/",
          "height": 204
        },
        "id": "eBm3yP0dVM5V",
        "outputId": "5d828e78-447f-4e11-d795-f275ee5e47b3"
      },
      "source": [
        "class_sheet1 = pd.DataFrame(class_grades1)\n",
        "class_sheet1"
      ],
      "execution_count": 5,
      "outputs": [
        {
          "output_type": "execute_result",
          "data": {
            "text/html": [
              "<div>\n",
              "<style scoped>\n",
              "    .dataframe tbody tr th:only-of-type {\n",
              "        vertical-align: middle;\n",
              "    }\n",
              "\n",
              "    .dataframe tbody tr th {\n",
              "        vertical-align: top;\n",
              "    }\n",
              "\n",
              "    .dataframe thead th {\n",
              "        text-align: right;\n",
              "    }\n",
              "</style>\n",
              "<table border=\"1\" class=\"dataframe\">\n",
              "  <thead>\n",
              "    <tr style=\"text-align: right;\">\n",
              "      <th></th>\n",
              "      <th>Student Number</th>\n",
              "      <th>First Name</th>\n",
              "      <th>Last Name</th>\n",
              "      <th>Prelim Grades</th>\n",
              "      <th>Midterm Grades</th>\n",
              "      <th>Finals Grades</th>\n",
              "    </tr>\n",
              "  </thead>\n",
              "  <tbody>\n",
              "    <tr>\n",
              "      <th>0</th>\n",
              "      <td>201811757</td>\n",
              "      <td>James</td>\n",
              "      <td>Manalo</td>\n",
              "      <td>49</td>\n",
              "      <td>72</td>\n",
              "      <td>81</td>\n",
              "    </tr>\n",
              "    <tr>\n",
              "      <th>1</th>\n",
              "      <td>201811180</td>\n",
              "      <td>Joshua</td>\n",
              "      <td>Dusaran</td>\n",
              "      <td>50</td>\n",
              "      <td>47</td>\n",
              "      <td>49</td>\n",
              "    </tr>\n",
              "    <tr>\n",
              "      <th>2</th>\n",
              "      <td>201811740</td>\n",
              "      <td>Luigi</td>\n",
              "      <td>Ditan</td>\n",
              "      <td>85</td>\n",
              "      <td>92</td>\n",
              "      <td>72</td>\n",
              "    </tr>\n",
              "    <tr>\n",
              "      <th>3</th>\n",
              "      <td>201806931</td>\n",
              "      <td>Ralf</td>\n",
              "      <td>Gamban</td>\n",
              "      <td>80</td>\n",
              "      <td>90</td>\n",
              "      <td>91</td>\n",
              "    </tr>\n",
              "    <tr>\n",
              "      <th>4</th>\n",
              "      <td>201899712</td>\n",
              "      <td>Juan</td>\n",
              "      <td>Cruz</td>\n",
              "      <td>96</td>\n",
              "      <td>88</td>\n",
              "      <td>89</td>\n",
              "    </tr>\n",
              "  </tbody>\n",
              "</table>\n",
              "</div>"
            ],
            "text/plain": [
              "   Student Number First Name  ... Midterm Grades  Finals Grades\n",
              "0       201811757      James  ...             72             81\n",
              "1       201811180     Joshua  ...             47             49\n",
              "2       201811740      Luigi  ...             92             72\n",
              "3       201806931       Ralf  ...             90             91\n",
              "4       201899712       Juan  ...             88             89\n",
              "\n",
              "[5 rows x 6 columns]"
            ]
          },
          "metadata": {},
          "execution_count": 5
        }
      ]
    },
    {
      "cell_type": "markdown",
      "metadata": {
        "id": "QZWa_LNqRVOJ"
      },
      "source": [
        "### Task 2: Getting Class Statistics\n",
        "1. Create a function named `get_grades()` for computing the semestral grade of each student:\n",
        "\n",
        "  `inputs`: `DataFrame` of a class grade sheet.\n",
        "  \n",
        "  `outpus`: `DataFrame` showing:\n",
        "  * The prelim, midterms, and finals grades of each student\n",
        "  * The semestral grade of each student\n",
        "\n",
        "2. Create a function named `get_class_stats()`.\n",
        "  \n",
        "  `inputs`: `DataFrame` from `get_grades()`.\n",
        "  \n",
        "  `outpus`: `DataFrame` showing:\n",
        "  * The lowest and highest prelim, midterm, finals, and semestral grades\n",
        "  * the mean, median, mode, and standard deviation of the grades\n"
      ]
    },
    {
      "cell_type": "code",
      "metadata": {
        "id": "mCruoe6AMdjX"
      },
      "source": [
        "def get_grades(dataframe):\n",
        "  prelim = dataframe[\"Prelim Grades\"]\n",
        "  midterm = dataframe[\"Midterm Grades\"]\n",
        "  final = dataframe[\"Finals Grades\"]\n",
        "  for item in dataframe[\"Last Name\"]:\n",
        "    semestral_grade = ((prelim*30) + (midterm*30) + (final*40)) / 100\n",
        "    dataframe['Semestral Grade'] = semestral_grade\n",
        "  return dataframe"
      ],
      "execution_count": 7,
      "outputs": []
    },
    {
      "cell_type": "code",
      "metadata": {
        "colab": {
          "base_uri": "https://localhost:8080/",
          "height": 204
        },
        "id": "9Oi3KyOXXY6B",
        "outputId": "c175845c-a16b-4b3e-af68-a4f0ce0ba4fa"
      },
      "source": [
        "get_grades(class_sheet)"
      ],
      "execution_count": 8,
      "outputs": [
        {
          "output_type": "execute_result",
          "data": {
            "text/html": [
              "<div>\n",
              "<style scoped>\n",
              "    .dataframe tbody tr th:only-of-type {\n",
              "        vertical-align: middle;\n",
              "    }\n",
              "\n",
              "    .dataframe tbody tr th {\n",
              "        vertical-align: top;\n",
              "    }\n",
              "\n",
              "    .dataframe thead th {\n",
              "        text-align: right;\n",
              "    }\n",
              "</style>\n",
              "<table border=\"1\" class=\"dataframe\">\n",
              "  <thead>\n",
              "    <tr style=\"text-align: right;\">\n",
              "      <th></th>\n",
              "      <th>Student Number</th>\n",
              "      <th>First Name</th>\n",
              "      <th>Last Name</th>\n",
              "      <th>Prelim Grades</th>\n",
              "      <th>Midterm Grades</th>\n",
              "      <th>Finals Grades</th>\n",
              "      <th>Semestral Grade</th>\n",
              "    </tr>\n",
              "  </thead>\n",
              "  <tbody>\n",
              "    <tr>\n",
              "      <th>0</th>\n",
              "      <td>201811752</td>\n",
              "      <td>James</td>\n",
              "      <td>Gonzales</td>\n",
              "      <td>94</td>\n",
              "      <td>80</td>\n",
              "      <td>90</td>\n",
              "      <td>88.2</td>\n",
              "    </tr>\n",
              "    <tr>\n",
              "      <th>1</th>\n",
              "      <td>201866232</td>\n",
              "      <td>Joshua</td>\n",
              "      <td>Bungcaras</td>\n",
              "      <td>95</td>\n",
              "      <td>80</td>\n",
              "      <td>86</td>\n",
              "      <td>86.9</td>\n",
              "    </tr>\n",
              "    <tr>\n",
              "      <th>2</th>\n",
              "      <td>201811740</td>\n",
              "      <td>Luigi</td>\n",
              "      <td>Ditan</td>\n",
              "      <td>85</td>\n",
              "      <td>92</td>\n",
              "      <td>72</td>\n",
              "      <td>81.9</td>\n",
              "    </tr>\n",
              "    <tr>\n",
              "      <th>3</th>\n",
              "      <td>201818532</td>\n",
              "      <td>Ralf</td>\n",
              "      <td>Nietes</td>\n",
              "      <td>80</td>\n",
              "      <td>90</td>\n",
              "      <td>91</td>\n",
              "      <td>87.4</td>\n",
              "    </tr>\n",
              "    <tr>\n",
              "      <th>4</th>\n",
              "      <td>201899712</td>\n",
              "      <td>Juan</td>\n",
              "      <td>Cruz</td>\n",
              "      <td>60</td>\n",
              "      <td>60</td>\n",
              "      <td>60</td>\n",
              "      <td>60.0</td>\n",
              "    </tr>\n",
              "  </tbody>\n",
              "</table>\n",
              "</div>"
            ],
            "text/plain": [
              "   Student Number First Name  ... Finals Grades  Semestral Grade\n",
              "0       201811752      James  ...            90             88.2\n",
              "1       201866232     Joshua  ...            86             86.9\n",
              "2       201811740      Luigi  ...            72             81.9\n",
              "3       201818532       Ralf  ...            91             87.4\n",
              "4       201899712       Juan  ...            60             60.0\n",
              "\n",
              "[5 rows x 7 columns]"
            ]
          },
          "metadata": {},
          "execution_count": 8
        }
      ]
    },
    {
      "cell_type": "code",
      "metadata": {
        "id": "ywVUbrgSYOIw"
      },
      "source": [
        "def get_class_stats(dataframe):\n",
        "  prelim = dataframe[\"Prelim Grades\"]\n",
        "  midterm = dataframe[\"Midterm Grades\"]\n",
        "  final = dataframe[\"Finals Grades\"]\n",
        "  semestral = dataframe[\"Semestral Grade\"]\n",
        "\n",
        "  p_mean = dataframe['Prelim Grades'].mean()\n",
        "  p_median = dataframe['Prelim Grades'].median()\n",
        "  p_mode = dataframe['Prelim Grades'].mode()[0]\n",
        "  p_std = dataframe['Prelim Grades'].std()\n",
        "\n",
        "  m_mean = dataframe['Midterm Grades'].mean()\n",
        "  m_median = dataframe['Midterm Grades'].median()\n",
        "  m_mode = dataframe['Midterm Grades'].mode()[0]\n",
        "  m_std = dataframe['Midterm Grades'].std()\n",
        "\n",
        "  f_mean = dataframe['Finals Grades'].mean()\n",
        "  f_median = dataframe['Finals Grades'].median()\n",
        "  f_mode = dataframe['Finals Grades'].mode()[0]\n",
        "  f_std = dataframe['Finals Grades'].std()\n",
        "\n",
        "  s_mean = dataframe['Semestral Grade'].mean()\n",
        "  s_median = dataframe['Semestral Grade'].median()\n",
        "  s_mode = dataframe['Semestral Grade'].mode()[0]\n",
        "  s_std = dataframe['Semestral Grade'].std()\n",
        "\n",
        "  h_prelim = prelim.max()\n",
        "  h_midterm = midterm.max()\n",
        "  h_final = final.max()\n",
        "\n",
        "  l_prelim = prelim.min()\n",
        "  l_midterm = midterm.min()\n",
        "  l_final = final.min()\n",
        "\n",
        "  h_semestral = semestral.max()\n",
        "  l_semestral = semestral.min()\n",
        "\n",
        "  dataframe = {' ': [\"Prelims\", \"Midterms\", \"Finals\", \"Semestral Grade\"],\n",
        "               'Highest': [h_prelim, h_midterm, h_final, h_semestral],\n",
        "               'Lowest': [l_prelim, l_midterm, l_final, l_semestral]}\n",
        "\n",
        "  dataframe = pd.DataFrame(dataframe)\n",
        "  dataframe[\"Mean\"] = [p_mean, m_mean, f_mean, s_mean]\n",
        "  dataframe[\"Median\"] = [p_median, m_median, f_median, s_median]\n",
        "  dataframe[\"Mode\"] = [p_mode, m_mode, f_mode, s_mode]\n",
        "  dataframe[\"Standard_Deviation\"] = [p_std, m_std, f_std, s_std]\n",
        "  return dataframe"
      ],
      "execution_count": 9,
      "outputs": []
    },
    {
      "cell_type": "code",
      "metadata": {
        "colab": {
          "base_uri": "https://localhost:8080/",
          "height": 173
        },
        "id": "NrprhSB7ZWNR",
        "outputId": "0637e22b-09c3-4a89-ac8e-7b3f7cc993df"
      },
      "source": [
        "get_class_stats(get_grades(class_sheet))"
      ],
      "execution_count": 10,
      "outputs": [
        {
          "output_type": "execute_result",
          "data": {
            "text/html": [
              "<div>\n",
              "<style scoped>\n",
              "    .dataframe tbody tr th:only-of-type {\n",
              "        vertical-align: middle;\n",
              "    }\n",
              "\n",
              "    .dataframe tbody tr th {\n",
              "        vertical-align: top;\n",
              "    }\n",
              "\n",
              "    .dataframe thead th {\n",
              "        text-align: right;\n",
              "    }\n",
              "</style>\n",
              "<table border=\"1\" class=\"dataframe\">\n",
              "  <thead>\n",
              "    <tr style=\"text-align: right;\">\n",
              "      <th></th>\n",
              "      <th></th>\n",
              "      <th>Highest</th>\n",
              "      <th>Lowest</th>\n",
              "      <th>Mean</th>\n",
              "      <th>Median</th>\n",
              "      <th>Mode</th>\n",
              "      <th>Standard_Deviation</th>\n",
              "    </tr>\n",
              "  </thead>\n",
              "  <tbody>\n",
              "    <tr>\n",
              "      <th>0</th>\n",
              "      <td>Prelims</td>\n",
              "      <td>95.0</td>\n",
              "      <td>60.0</td>\n",
              "      <td>82.80</td>\n",
              "      <td>85.0</td>\n",
              "      <td>60.0</td>\n",
              "      <td>14.202113</td>\n",
              "    </tr>\n",
              "    <tr>\n",
              "      <th>1</th>\n",
              "      <td>Midterms</td>\n",
              "      <td>92.0</td>\n",
              "      <td>60.0</td>\n",
              "      <td>80.40</td>\n",
              "      <td>80.0</td>\n",
              "      <td>80.0</td>\n",
              "      <td>12.680694</td>\n",
              "    </tr>\n",
              "    <tr>\n",
              "      <th>2</th>\n",
              "      <td>Finals</td>\n",
              "      <td>91.0</td>\n",
              "      <td>60.0</td>\n",
              "      <td>79.80</td>\n",
              "      <td>86.0</td>\n",
              "      <td>60.0</td>\n",
              "      <td>13.423859</td>\n",
              "    </tr>\n",
              "    <tr>\n",
              "      <th>3</th>\n",
              "      <td>Semestral Grade</td>\n",
              "      <td>88.2</td>\n",
              "      <td>60.0</td>\n",
              "      <td>80.88</td>\n",
              "      <td>86.9</td>\n",
              "      <td>60.0</td>\n",
              "      <td>11.930507</td>\n",
              "    </tr>\n",
              "  </tbody>\n",
              "</table>\n",
              "</div>"
            ],
            "text/plain": [
              "                    Highest  Lowest   Mean  Median  Mode  Standard_Deviation\n",
              "0          Prelims     95.0    60.0  82.80    85.0  60.0           14.202113\n",
              "1         Midterms     92.0    60.0  80.40    80.0  80.0           12.680694\n",
              "2           Finals     91.0    60.0  79.80    86.0  60.0           13.423859\n",
              "3  Semestral Grade     88.2    60.0  80.88    86.9  60.0           11.930507"
            ]
          },
          "metadata": {},
          "execution_count": 10
        }
      ]
    },
    {
      "cell_type": "markdown",
      "metadata": {
        "id": "23uTdW9eTTsC"
      },
      "source": [
        "### Task 3: Advanced Class Functions\n",
        "1. Optimize `get_grades()` by eliminating for loops in your function.\n",
        "2. Create a function named `get_similar_students()`\n",
        "  \n",
        "  `inputs`: two (2) class `DataFrames`\n",
        "  \n",
        "  `outputs`: list of common student numbers.\n",
        "\n",
        "  *Note*: The function should not contain iterative code blocks (i.e. `for` or `while` loops, or list comprehension)"
      ]
    },
    {
      "cell_type": "code",
      "metadata": {
        "id": "nGO2PPWcRTV7"
      },
      "source": [
        "def get_grades(dataframe):\n",
        "  prelim = dataframe[\"Prelim Grades\"]\n",
        "  midterm = dataframe[\"Midterm Grades\"]\n",
        "  final = dataframe[\"Finals Grades\"]\n",
        "  semestral_grade = ((prelim*30) + (midterm*30) + (final*40)) / 100\n",
        "  dataframe['Semestral Grade'] = semestral_grade\n",
        "  return dataframe"
      ],
      "execution_count": 11,
      "outputs": []
    },
    {
      "cell_type": "code",
      "metadata": {
        "colab": {
          "base_uri": "https://localhost:8080/",
          "height": 204
        },
        "id": "yk6_PFzmK5ZU",
        "outputId": "5e7b852d-ab54-4ff5-bbc9-cf7fcc4fad62"
      },
      "source": [
        "get_grades(class_sheet)"
      ],
      "execution_count": 12,
      "outputs": [
        {
          "output_type": "execute_result",
          "data": {
            "text/html": [
              "<div>\n",
              "<style scoped>\n",
              "    .dataframe tbody tr th:only-of-type {\n",
              "        vertical-align: middle;\n",
              "    }\n",
              "\n",
              "    .dataframe tbody tr th {\n",
              "        vertical-align: top;\n",
              "    }\n",
              "\n",
              "    .dataframe thead th {\n",
              "        text-align: right;\n",
              "    }\n",
              "</style>\n",
              "<table border=\"1\" class=\"dataframe\">\n",
              "  <thead>\n",
              "    <tr style=\"text-align: right;\">\n",
              "      <th></th>\n",
              "      <th>Student Number</th>\n",
              "      <th>First Name</th>\n",
              "      <th>Last Name</th>\n",
              "      <th>Prelim Grades</th>\n",
              "      <th>Midterm Grades</th>\n",
              "      <th>Finals Grades</th>\n",
              "      <th>Semestral Grade</th>\n",
              "    </tr>\n",
              "  </thead>\n",
              "  <tbody>\n",
              "    <tr>\n",
              "      <th>0</th>\n",
              "      <td>201811752</td>\n",
              "      <td>James</td>\n",
              "      <td>Gonzales</td>\n",
              "      <td>94</td>\n",
              "      <td>80</td>\n",
              "      <td>90</td>\n",
              "      <td>88.2</td>\n",
              "    </tr>\n",
              "    <tr>\n",
              "      <th>1</th>\n",
              "      <td>201866232</td>\n",
              "      <td>Joshua</td>\n",
              "      <td>Bungcaras</td>\n",
              "      <td>95</td>\n",
              "      <td>80</td>\n",
              "      <td>86</td>\n",
              "      <td>86.9</td>\n",
              "    </tr>\n",
              "    <tr>\n",
              "      <th>2</th>\n",
              "      <td>201811740</td>\n",
              "      <td>Luigi</td>\n",
              "      <td>Ditan</td>\n",
              "      <td>85</td>\n",
              "      <td>92</td>\n",
              "      <td>72</td>\n",
              "      <td>81.9</td>\n",
              "    </tr>\n",
              "    <tr>\n",
              "      <th>3</th>\n",
              "      <td>201818532</td>\n",
              "      <td>Ralf</td>\n",
              "      <td>Nietes</td>\n",
              "      <td>80</td>\n",
              "      <td>90</td>\n",
              "      <td>91</td>\n",
              "      <td>87.4</td>\n",
              "    </tr>\n",
              "    <tr>\n",
              "      <th>4</th>\n",
              "      <td>201899712</td>\n",
              "      <td>Juan</td>\n",
              "      <td>Cruz</td>\n",
              "      <td>60</td>\n",
              "      <td>60</td>\n",
              "      <td>60</td>\n",
              "      <td>60.0</td>\n",
              "    </tr>\n",
              "  </tbody>\n",
              "</table>\n",
              "</div>"
            ],
            "text/plain": [
              "   Student Number First Name  ... Finals Grades  Semestral Grade\n",
              "0       201811752      James  ...            90             88.2\n",
              "1       201866232     Joshua  ...            86             86.9\n",
              "2       201811740      Luigi  ...            72             81.9\n",
              "3       201818532       Ralf  ...            91             87.4\n",
              "4       201899712       Juan  ...            60             60.0\n",
              "\n",
              "[5 rows x 7 columns]"
            ]
          },
          "metadata": {},
          "execution_count": 12
        }
      ]
    },
    {
      "cell_type": "code",
      "metadata": {
        "id": "phq4MG43rtJV"
      },
      "source": [
        "def get_similar_students(dataframe, dataframe1):\n",
        "  sample = pd.merge(dataframe, dataframe1, how='inner', left_on='Student Number', right_on='Student Number')\n",
        "  sample_list = sample['Student Number'] \n",
        "  return sample_list"
      ],
      "execution_count": 13,
      "outputs": []
    },
    {
      "cell_type": "code",
      "metadata": {
        "colab": {
          "base_uri": "https://localhost:8080/"
        },
        "id": "iCgrUCXy8Rgh",
        "outputId": "ebec709c-50b2-4916-d457-bb63d53aedaa"
      },
      "source": [
        "get_similar_students(get_grades(class_sheet), get_grades(class_sheet1))"
      ],
      "execution_count": 14,
      "outputs": [
        {
          "output_type": "execute_result",
          "data": {
            "text/plain": [
              "0    201811740\n",
              "1    201899712\n",
              "Name: Student Number, dtype: int64"
            ]
          },
          "metadata": {},
          "execution_count": 14
        }
      ]
    },
    {
      "cell_type": "markdown",
      "metadata": {
        "id": "Kp9E7V_ZgNmz"
      },
      "source": [
        "### Task 4: Class of Classes\n",
        "1. Modify the `class` `Section` and integrate the functions from Tasks 1 to 3 as its methods. Make sure that the codes are optimized.\n",
        "2. Create a `method` named `get_failed()` wherein it will create a list of all the failed students in the class.\n",
        "3. Create a `method` named `fail_count()` wherein it will return the count of the failed students.\n",
        "\n",
        "** **Note:** due to data privacy, the data privacy office has mandated your code to print the names of the failed students as well as to mask the names of the students if their grades are also displayed."
      ]
    },
    {
      "cell_type": "code",
      "metadata": {
        "id": "uLLr9yeC0Ceg"
      },
      "source": [
        "class Section:\n",
        "  def __init__(self, dataframe, dataframe1):\n",
        "    self.class_list = dataframe\n",
        "    self.class_list1 = dataframe1\n",
        "  \n",
        "  def get_grades(self):\n",
        "    i = 0\n",
        "    prelim = self.class_list[\"Prelim Grades\"]\n",
        "    midterm = self.class_list[\"Midterm Grades\"]\n",
        "    final = self.class_list[\"Finals Grades\"]\n",
        "    fname = self.class_list[\"First Name\"]\n",
        "    lname = self.class_list[\"Last Name\"]\n",
        "    for item in lname:\n",
        "      semestral_grade = ((prelim*30) + (midterm*30) + (final*40)) / 100\n",
        "      self.class_list['Semestral Grade'] = semestral_grade\n",
        "\n",
        "      if self.class_list['Semestral Grade'][i] < 70:\n",
        "        self.class_list.at[i, 'First Name'] = len(fname[i]) * \"*\"\n",
        "        self.class_list.at[i, 'Last Name'] = len(lname[i]) * \"*\"\n",
        "      i = i + 1\n",
        "    return self.class_list\n",
        "\n",
        "  def get_class_stats(self):\n",
        "    prelim = self.class_list[\"Prelim Grades\"]\n",
        "    midterm = self.class_list[\"Midterm Grades\"]\n",
        "    final = self.class_list[\"Finals Grades\"]\n",
        "    semestral = self.class_list[\"Semestral Grade\"]\n",
        "\n",
        "    p_mean = self.class_list['Prelim Grades'].mean()\n",
        "    p_median = self.class_list['Prelim Grades'].median()\n",
        "    p_mode = self.class_list['Prelim Grades'].mode()[0]\n",
        "    p_std = self.class_list['Prelim Grades'].std()\n",
        "\n",
        "    m_mean = self.class_list['Midterm Grades'].mean()\n",
        "    m_median = self.class_list['Midterm Grades'].median()\n",
        "    m_mode = self.class_list['Midterm Grades'].mode()[0]\n",
        "    m_std = self.class_list['Midterm Grades'].std()\n",
        "\n",
        "    f_mean = self.class_list['Finals Grades'].mean()\n",
        "    f_median = self.class_list['Finals Grades'].median()\n",
        "    f_mode = self.class_list['Finals Grades'].mode()[0]\n",
        "    f_std = self.class_list['Finals Grades'].std()\n",
        "\n",
        "    s_mean = self.class_list['Semestral Grade'].mean()\n",
        "    s_median = self.class_list['Semestral Grade'].median()\n",
        "    s_mode = self.class_list['Semestral Grade'].mode()[0]\n",
        "    s_std = self.class_list['Semestral Grade'].std()\n",
        "\n",
        "    h_prelim = prelim.max()\n",
        "    h_midterm = midterm.max()\n",
        "    h_final = final.max()\n",
        "\n",
        "    l_prelim = prelim.min()\n",
        "    l_midterm = midterm.min()\n",
        "    l_final = final.min()\n",
        "\n",
        "    h_semestral = semestral.max()\n",
        "    l_semestral = semestral.min()\n",
        "\n",
        "    self.class_list = {' ': [\"Prelims\", \"Midterms\", \"Finals\", \"Semestral Grade\"],\n",
        "                'Highest': [h_prelim, h_midterm, h_final, h_semestral],\n",
        "                'Lowest': [l_prelim, l_midterm, l_final, l_semestral]}\n",
        "\n",
        "    self.class_list = pd.DataFrame(self.class_list)\n",
        "    self.class_list[\"Mean\"] = [p_mean, m_mean, f_mean, s_mean]\n",
        "    self.class_list[\"Median\"] = [p_median, m_median, f_median, s_median]\n",
        "    self.class_list[\"Mode\"] = [p_mode, m_mode, f_mode, s_mode]\n",
        "    self.class_list[\"Standard_Deviation\"] = [p_std, m_std, f_std, s_std]\n",
        "    return self.class_list\n",
        "  \n",
        "  def get_similar_students(self):\n",
        "    sample = pd.merge(self.class_list, self.class_list1, how='inner', left_on='Student Number', right_on='Student Number')\n",
        "    sample_list = sample['Student Number'] \n",
        "    return sample_list\n",
        "\n",
        "  def get_failed(self):\n",
        "    failed = []\n",
        "    i=0\n",
        "    for grade in self.class_list1[\"Semestral Grade\"]:\n",
        "      if grade < 70:\n",
        "        failed.append(self.class_list1[\"First Name\"][i] + \" \" + self.class_list1[\"Last Name\"][i])\n",
        "      i=i+1\n",
        "    return failed\n",
        "\n",
        "  def fail_count(self):\n",
        "    failed = []\n",
        "    for grade in self.class_list1[\"Semestral Grade\"]:\n",
        "      if grade < 70:\n",
        "        failed.append(grade)\n",
        "    return print(\"Failed Students: \", len(failed))\n",
        "\n",
        "\n",
        "section_class = Section(class_sheet,class_sheet1)"
      ],
      "execution_count": 15,
      "outputs": []
    },
    {
      "cell_type": "code",
      "metadata": {
        "colab": {
          "base_uri": "https://localhost:8080/",
          "height": 204
        },
        "id": "NY8BahVb1B-4",
        "outputId": "bed07e15-5e65-4275-8ebf-2fbfc014afe8"
      },
      "source": [
        "section_class.get_grades()"
      ],
      "execution_count": 16,
      "outputs": [
        {
          "output_type": "execute_result",
          "data": {
            "text/html": [
              "<div>\n",
              "<style scoped>\n",
              "    .dataframe tbody tr th:only-of-type {\n",
              "        vertical-align: middle;\n",
              "    }\n",
              "\n",
              "    .dataframe tbody tr th {\n",
              "        vertical-align: top;\n",
              "    }\n",
              "\n",
              "    .dataframe thead th {\n",
              "        text-align: right;\n",
              "    }\n",
              "</style>\n",
              "<table border=\"1\" class=\"dataframe\">\n",
              "  <thead>\n",
              "    <tr style=\"text-align: right;\">\n",
              "      <th></th>\n",
              "      <th>Student Number</th>\n",
              "      <th>First Name</th>\n",
              "      <th>Last Name</th>\n",
              "      <th>Prelim Grades</th>\n",
              "      <th>Midterm Grades</th>\n",
              "      <th>Finals Grades</th>\n",
              "      <th>Semestral Grade</th>\n",
              "    </tr>\n",
              "  </thead>\n",
              "  <tbody>\n",
              "    <tr>\n",
              "      <th>0</th>\n",
              "      <td>201811752</td>\n",
              "      <td>James</td>\n",
              "      <td>Gonzales</td>\n",
              "      <td>94</td>\n",
              "      <td>80</td>\n",
              "      <td>90</td>\n",
              "      <td>88.2</td>\n",
              "    </tr>\n",
              "    <tr>\n",
              "      <th>1</th>\n",
              "      <td>201866232</td>\n",
              "      <td>Joshua</td>\n",
              "      <td>Bungcaras</td>\n",
              "      <td>95</td>\n",
              "      <td>80</td>\n",
              "      <td>86</td>\n",
              "      <td>86.9</td>\n",
              "    </tr>\n",
              "    <tr>\n",
              "      <th>2</th>\n",
              "      <td>201811740</td>\n",
              "      <td>Luigi</td>\n",
              "      <td>Ditan</td>\n",
              "      <td>85</td>\n",
              "      <td>92</td>\n",
              "      <td>72</td>\n",
              "      <td>81.9</td>\n",
              "    </tr>\n",
              "    <tr>\n",
              "      <th>3</th>\n",
              "      <td>201818532</td>\n",
              "      <td>Ralf</td>\n",
              "      <td>Nietes</td>\n",
              "      <td>80</td>\n",
              "      <td>90</td>\n",
              "      <td>91</td>\n",
              "      <td>87.4</td>\n",
              "    </tr>\n",
              "    <tr>\n",
              "      <th>4</th>\n",
              "      <td>201899712</td>\n",
              "      <td>****</td>\n",
              "      <td>****</td>\n",
              "      <td>60</td>\n",
              "      <td>60</td>\n",
              "      <td>60</td>\n",
              "      <td>60.0</td>\n",
              "    </tr>\n",
              "  </tbody>\n",
              "</table>\n",
              "</div>"
            ],
            "text/plain": [
              "   Student Number First Name  ... Finals Grades  Semestral Grade\n",
              "0       201811752      James  ...            90             88.2\n",
              "1       201866232     Joshua  ...            86             86.9\n",
              "2       201811740      Luigi  ...            72             81.9\n",
              "3       201818532       Ralf  ...            91             87.4\n",
              "4       201899712       ****  ...            60             60.0\n",
              "\n",
              "[5 rows x 7 columns]"
            ]
          },
          "metadata": {},
          "execution_count": 16
        }
      ]
    },
    {
      "cell_type": "code",
      "metadata": {
        "id": "33ZvKkJU1IyW",
        "colab": {
          "base_uri": "https://localhost:8080/",
          "height": 173
        },
        "outputId": "1dfef07a-f023-44fa-a092-4a1329bbbc3b"
      },
      "source": [
        "section_class.get_class_stats()"
      ],
      "execution_count": 17,
      "outputs": [
        {
          "output_type": "execute_result",
          "data": {
            "text/html": [
              "<div>\n",
              "<style scoped>\n",
              "    .dataframe tbody tr th:only-of-type {\n",
              "        vertical-align: middle;\n",
              "    }\n",
              "\n",
              "    .dataframe tbody tr th {\n",
              "        vertical-align: top;\n",
              "    }\n",
              "\n",
              "    .dataframe thead th {\n",
              "        text-align: right;\n",
              "    }\n",
              "</style>\n",
              "<table border=\"1\" class=\"dataframe\">\n",
              "  <thead>\n",
              "    <tr style=\"text-align: right;\">\n",
              "      <th></th>\n",
              "      <th></th>\n",
              "      <th>Highest</th>\n",
              "      <th>Lowest</th>\n",
              "      <th>Mean</th>\n",
              "      <th>Median</th>\n",
              "      <th>Mode</th>\n",
              "      <th>Standard_Deviation</th>\n",
              "    </tr>\n",
              "  </thead>\n",
              "  <tbody>\n",
              "    <tr>\n",
              "      <th>0</th>\n",
              "      <td>Prelims</td>\n",
              "      <td>95.0</td>\n",
              "      <td>60.0</td>\n",
              "      <td>82.80</td>\n",
              "      <td>85.0</td>\n",
              "      <td>60.0</td>\n",
              "      <td>14.202113</td>\n",
              "    </tr>\n",
              "    <tr>\n",
              "      <th>1</th>\n",
              "      <td>Midterms</td>\n",
              "      <td>92.0</td>\n",
              "      <td>60.0</td>\n",
              "      <td>80.40</td>\n",
              "      <td>80.0</td>\n",
              "      <td>80.0</td>\n",
              "      <td>12.680694</td>\n",
              "    </tr>\n",
              "    <tr>\n",
              "      <th>2</th>\n",
              "      <td>Finals</td>\n",
              "      <td>91.0</td>\n",
              "      <td>60.0</td>\n",
              "      <td>79.80</td>\n",
              "      <td>86.0</td>\n",
              "      <td>60.0</td>\n",
              "      <td>13.423859</td>\n",
              "    </tr>\n",
              "    <tr>\n",
              "      <th>3</th>\n",
              "      <td>Semestral Grade</td>\n",
              "      <td>88.2</td>\n",
              "      <td>60.0</td>\n",
              "      <td>80.88</td>\n",
              "      <td>86.9</td>\n",
              "      <td>60.0</td>\n",
              "      <td>11.930507</td>\n",
              "    </tr>\n",
              "  </tbody>\n",
              "</table>\n",
              "</div>"
            ],
            "text/plain": [
              "                    Highest  Lowest   Mean  Median  Mode  Standard_Deviation\n",
              "0          Prelims     95.0    60.0  82.80    85.0  60.0           14.202113\n",
              "1         Midterms     92.0    60.0  80.40    80.0  80.0           12.680694\n",
              "2           Finals     91.0    60.0  79.80    86.0  60.0           13.423859\n",
              "3  Semestral Grade     88.2    60.0  80.88    86.9  60.0           11.930507"
            ]
          },
          "metadata": {},
          "execution_count": 17
        }
      ]
    },
    {
      "cell_type": "code",
      "metadata": {
        "colab": {
          "base_uri": "https://localhost:8080/"
        },
        "id": "L7fTefcBi97n",
        "outputId": "421eb7d1-5cf4-4e9f-d6be-0c4ad289ea92"
      },
      "source": [
        "section_class = Section(get_grades(class_sheet),get_grades(class_sheet1))\n",
        "section_class.get_failed()"
      ],
      "execution_count": 18,
      "outputs": [
        {
          "output_type": "execute_result",
          "data": {
            "text/plain": [
              "['James Manalo', 'Joshua Dusaran']"
            ]
          },
          "metadata": {},
          "execution_count": 18
        }
      ]
    },
    {
      "cell_type": "code",
      "metadata": {
        "colab": {
          "base_uri": "https://localhost:8080/"
        },
        "id": "gbmGLwO0krDr",
        "outputId": "a7675885-3f87-44bc-a347-639f39776361"
      },
      "source": [
        "section_class = Section(get_grades(class_sheet),get_grades(class_sheet1)) \n",
        "section_class.fail_count()"
      ],
      "execution_count": 19,
      "outputs": [
        {
          "output_type": "stream",
          "name": "stdout",
          "text": [
            "Failed Students:  2\n"
          ]
        }
      ]
    }
  ]
}